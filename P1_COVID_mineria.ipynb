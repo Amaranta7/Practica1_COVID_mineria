{
  "nbformat": 4,
  "nbformat_minor": 0,
  "metadata": {
    "colab": {
      "name": "P1_COVID_mineria",
      "provenance": [],
      "collapsed_sections": [],
      "authorship_tag": "ABX9TyMjM60gqEuHsQA+ljozPhK6",
      "include_colab_link": true
    },
    "kernelspec": {
      "name": "python3",
      "display_name": "Python 3"
    },
    "language_info": {
      "name": "python"
    }
  },
  "cells": [
    {
      "cell_type": "markdown",
      "metadata": {
        "id": "view-in-github",
        "colab_type": "text"
      },
      "source": [
        "<a href=\"https://colab.research.google.com/github/Amaranta7/Practica1_COVID_mineria/blob/main/P1_COVID_mineria.ipynb\" target=\"_parent\"><img src=\"https://colab.research.google.com/assets/colab-badge.svg\" alt=\"Open In Colab\"/></a>"
      ]
    },
    {
      "cell_type": "markdown",
      "metadata": {
        "id": "-0mWrGFnbf5L"
      },
      "source": [
        "**#Practicas Mineria_COVID-19"
      ]
    },
    {
      "cell_type": "markdown",
      "metadata": {
        "id": "zWElZOON-QW4"
      },
      "source": [
        "###Importacion de Datos "
      ]
    },
    {
      "cell_type": "markdown",
      "metadata": {
        "id": "IdrO3y43bSuu"
      },
      "source": [
        "**Datos Anuales del 21 Febrero del 2021 \n",
        "al 21 Marzo 2021 (1mes)**"
      ]
    },
    {
      "cell_type": "code",
      "metadata": {
        "colab": {
          "base_uri": "https://localhost:8080/",
          "height": 0
        },
        "id": "a3mm5QOv9Afe",
        "outputId": "9b5667e4-bbbf-4fc8-e3b3-4656e5b6d826"
      },
      "source": [
        "import requests\n",
        "import io\n",
        "from bs4 import BeautifulSoup\n",
        "import pandas as pd\n",
        "import seaborn as sns\n",
        "from tabulate import tabulate\n",
        "from typing import Tuple, List,Dict\n",
        "from pandas import DataFrame\n",
        "\n",
        "\n",
        "def get_soup(url: str) -> BeautifulSoup:\n",
        "    response = requests.get(url)\n",
        "    return BeautifulSoup(response.content, 'html.parser')\n",
        "\n",
        "def print_tabulate(df: pd.DataFrame):\n",
        "    print(tabulate(df, headers=df.columns, tablefmt='orgtbl'))\n",
        "\n",
        "def get_csv_from_url(url: str) -> pd.DataFrame:\n",
        "    s = requests.get(url).content\n",
        "    return pd.read_csv(io.StringIO(s.decode('utf-8')))\n",
        "\n",
        "def Covid() -> pd.DataFrame:\n",
        "    soup = get_soup(\"https://es.wikipedia.org/wiki/Pandemia_de_COVID-19_en_México\")\n",
        "    list_of_lists = []\n",
        "    rows = soup.find_all(\"table\")[7].find_all('tr')\n",
        "    for row in rows[1:]:\n",
        "        columns = row.find_all('td')\n",
        "        listado_de_valores_en_columnas = [column.text.strip() for column in columns]\n",
        "        list_of_lists.append(listado_de_valores_en_columnas)\n",
        "    return pd.DataFrame(list_of_lists, columns=[\"Estados\",\"Casos\",\"Cantidad de Fallecidos\",\"porcentaje de Fallecidos\",\"Cantidad de Recuperados\",\"porcentaje de Recuperados\",\"Casos por 100,000 habitantes\",\"Reporte\"])\n",
        "\n",
        "df = Covid()\n",
        "\n",
        "df.head()"
      ],
      "execution_count": 1,
      "outputs": [
        {
          "output_type": "execute_result",
          "data": {
            "text/html": [
              "<div>\n",
              "<style scoped>\n",
              "    .dataframe tbody tr th:only-of-type {\n",
              "        vertical-align: middle;\n",
              "    }\n",
              "\n",
              "    .dataframe tbody tr th {\n",
              "        vertical-align: top;\n",
              "    }\n",
              "\n",
              "    .dataframe thead th {\n",
              "        text-align: right;\n",
              "    }\n",
              "</style>\n",
              "<table border=\"1\" class=\"dataframe\">\n",
              "  <thead>\n",
              "    <tr style=\"text-align: right;\">\n",
              "      <th></th>\n",
              "      <th>Estados</th>\n",
              "      <th>Casos</th>\n",
              "      <th>Cantidad de Fallecidos</th>\n",
              "      <th>porcentaje de Fallecidos</th>\n",
              "      <th>Cantidad de Recuperados</th>\n",
              "      <th>porcentaje de Recuperados</th>\n",
              "      <th>Casos por 100,000 habitantes</th>\n",
              "      <th>Reporte</th>\n",
              "    </tr>\n",
              "  </thead>\n",
              "  <tbody>\n",
              "    <tr>\n",
              "      <th>0</th>\n",
              "      <td>None</td>\n",
              "      <td>None</td>\n",
              "      <td>None</td>\n",
              "      <td>None</td>\n",
              "      <td>None</td>\n",
              "      <td>None</td>\n",
              "      <td>None</td>\n",
              "      <td>None</td>\n",
              "    </tr>\n",
              "    <tr>\n",
              "      <th>1</th>\n",
              "      <td>None</td>\n",
              "      <td>None</td>\n",
              "      <td>None</td>\n",
              "      <td>None</td>\n",
              "      <td>None</td>\n",
              "      <td>None</td>\n",
              "      <td>None</td>\n",
              "      <td>None</td>\n",
              "    </tr>\n",
              "    <tr>\n",
              "      <th>2</th>\n",
              "      <td>Ciudad de México</td>\n",
              "      <td>592 456</td>\n",
              "      <td>38 132</td>\n",
              "      <td>6.44</td>\n",
              "      <td>531 532</td>\n",
              "      <td>89.72</td>\n",
              "      <td>6643.4</td>\n",
              "      <td>[133]​</td>\n",
              "    </tr>\n",
              "    <tr>\n",
              "      <th>3</th>\n",
              "      <td>Jalisco</td>\n",
              "      <td>229 072</td>\n",
              "      <td>11 120</td>\n",
              "      <td>4.85</td>\n",
              "      <td>210 879</td>\n",
              "      <td>92.06</td>\n",
              "      <td>2739.1</td>\n",
              "      <td>[134]​</td>\n",
              "    </tr>\n",
              "    <tr>\n",
              "      <th>4</th>\n",
              "      <td>Estado de México</td>\n",
              "      <td>228 018</td>\n",
              "      <td>30 527</td>\n",
              "      <td>13.39</td>\n",
              "      <td>185 357</td>\n",
              "      <td>81.29</td>\n",
              "      <td>1261.9</td>\n",
              "      <td>[135]​</td>\n",
              "    </tr>\n",
              "  </tbody>\n",
              "</table>\n",
              "</div>"
            ],
            "text/plain": [
              "            Estados    Casos  ... Casos por 100,000 habitantes Reporte\n",
              "0              None     None  ...                         None    None\n",
              "1              None     None  ...                         None    None\n",
              "2  Ciudad de México  592 456  ...                       6643.4  [133]​\n",
              "3           Jalisco  229 072  ...                       2739.1  [134]​\n",
              "4  Estado de México  228 018  ...                       1261.9  [135]​\n",
              "\n",
              "[5 rows x 8 columns]"
            ]
          },
          "metadata": {
            "tags": []
          },
          "execution_count": 1
        }
      ]
    },
    {
      "cell_type": "code",
      "metadata": {
        "id": "8aME1w35-jlX"
      },
      "source": [
        "df.to_csv(\"Estimadores_Covid.csv\", index=False)"
      ],
      "execution_count": 2,
      "outputs": []
    },
    {
      "cell_type": "markdown",
      "metadata": {
        "id": "6PhKkSwy-oMP"
      },
      "source": [
        "### Análisis de Datos"
      ]
    },
    {
      "cell_type": "markdown",
      "metadata": {
        "id": "b0lwuONE-6st"
      },
      "source": [
        "Import librerias que usaremos para graficas, analysis y tablas "
      ]
    },
    {
      "cell_type": "code",
      "metadata": {
        "id": "1PvAO2h4-1Z1",
        "colab": {
          "base_uri": "https://localhost:8080/"
        },
        "outputId": "1ed8d6a5-2234-46d6-8285-4a57b0efdce3"
      },
      "source": [
        "import matplotlib.pyplot as plt\n",
        "import statsmodels.api as sm\n",
        "import numpy as np\n",
        "import numbers\n",
        "from statsmodels.formula.api import ols\n",
        "from statsmodels.stats.outliers_influence import summary_table"
      ],
      "execution_count": 3,
      "outputs": [
        {
          "output_type": "stream",
          "text": [
            "/usr/local/lib/python3.7/dist-packages/statsmodels/tools/_testing.py:19: FutureWarning: pandas.util.testing is deprecated. Use the functions in the public API at pandas.testing instead.\n",
            "  import pandas.util.testing as tm\n"
          ],
          "name": "stderr"
        }
      ]
    },
    {
      "cell_type": "code",
      "metadata": {
        "id": "2hAsLhfQ_Otn"
      },
      "source": [
        "df_Modif = pd.read_csv(\"Estimadores_Covid.csv\")\n",
        "#Eliminamos las columnas mencionadas despues de .drop que sera el data fram de df_Modif\n",
        "df_Modif = df_Modif.drop(['porcentaje de Fallecidos', 'porcentaje de Recuperados','Casos por 100,000 habitantes','Reporte'], axis=1)"
      ],
      "execution_count": 4,
      "outputs": []
    },
    {
      "cell_type": "code",
      "metadata": {
        "colab": {
          "base_uri": "https://localhost:8080/",
          "height": 0
        },
        "id": "TsY1pYHI_WZ-",
        "outputId": "aeebd9e0-e858-4e2b-fbd1-9650535dc7f7"
      },
      "source": [
        "df_Modif.head(5)"
      ],
      "execution_count": 5,
      "outputs": [
        {
          "output_type": "execute_result",
          "data": {
            "text/html": [
              "<div>\n",
              "<style scoped>\n",
              "    .dataframe tbody tr th:only-of-type {\n",
              "        vertical-align: middle;\n",
              "    }\n",
              "\n",
              "    .dataframe tbody tr th {\n",
              "        vertical-align: top;\n",
              "    }\n",
              "\n",
              "    .dataframe thead th {\n",
              "        text-align: right;\n",
              "    }\n",
              "</style>\n",
              "<table border=\"1\" class=\"dataframe\">\n",
              "  <thead>\n",
              "    <tr style=\"text-align: right;\">\n",
              "      <th></th>\n",
              "      <th>Estados</th>\n",
              "      <th>Casos</th>\n",
              "      <th>Cantidad de Fallecidos</th>\n",
              "      <th>Cantidad de Recuperados</th>\n",
              "    </tr>\n",
              "  </thead>\n",
              "  <tbody>\n",
              "    <tr>\n",
              "      <th>0</th>\n",
              "      <td>NaN</td>\n",
              "      <td>NaN</td>\n",
              "      <td>NaN</td>\n",
              "      <td>NaN</td>\n",
              "    </tr>\n",
              "    <tr>\n",
              "      <th>1</th>\n",
              "      <td>NaN</td>\n",
              "      <td>NaN</td>\n",
              "      <td>NaN</td>\n",
              "      <td>NaN</td>\n",
              "    </tr>\n",
              "    <tr>\n",
              "      <th>2</th>\n",
              "      <td>Ciudad de México</td>\n",
              "      <td>592 456</td>\n",
              "      <td>38 132</td>\n",
              "      <td>531 532</td>\n",
              "    </tr>\n",
              "    <tr>\n",
              "      <th>3</th>\n",
              "      <td>Jalisco</td>\n",
              "      <td>229 072</td>\n",
              "      <td>11 120</td>\n",
              "      <td>210 879</td>\n",
              "    </tr>\n",
              "    <tr>\n",
              "      <th>4</th>\n",
              "      <td>Estado de México</td>\n",
              "      <td>228 018</td>\n",
              "      <td>30 527</td>\n",
              "      <td>185 357</td>\n",
              "    </tr>\n",
              "  </tbody>\n",
              "</table>\n",
              "</div>"
            ],
            "text/plain": [
              "            Estados    Casos Cantidad de Fallecidos Cantidad de Recuperados\n",
              "0               NaN      NaN                    NaN                     NaN\n",
              "1               NaN      NaN                    NaN                     NaN\n",
              "2  Ciudad de México  592 456                 38 132                 531 532\n",
              "3           Jalisco  229 072                 11 120                 210 879\n",
              "4  Estado de México  228 018                 30 527                 185 357"
            ]
          },
          "metadata": {
            "tags": []
          },
          "execution_count": 5
        }
      ]
    },
    {
      "cell_type": "code",
      "metadata": {
        "colab": {
          "base_uri": "https://localhost:8080/",
          "height": 0
        },
        "id": "5mHsWj19A0XA",
        "outputId": "e06f9e6d-8039-421c-8f92-7ba3330cfbd9"
      },
      "source": [
        "#Aqui agrupamos las columnas de cantidad de fallecidoa y la de cantidad de recuperados y la ponemos con la columna de casos\n",
        "df_by_casos = df_Modif.groupby([\"Cantidad de Fallecidos\", \"Cantidad de Recuperados\"])[[\"Casos\"]].aggregate(pd.DataFrame.sum)\n",
        "df_by_casos.head(5)"
      ],
      "execution_count": 6,
      "outputs": [
        {
          "output_type": "execute_result",
          "data": {
            "text/html": [
              "<div>\n",
              "<style scoped>\n",
              "    .dataframe tbody tr th:only-of-type {\n",
              "        vertical-align: middle;\n",
              "    }\n",
              "\n",
              "    .dataframe tbody tr th {\n",
              "        vertical-align: top;\n",
              "    }\n",
              "\n",
              "    .dataframe thead th {\n",
              "        text-align: right;\n",
              "    }\n",
              "</style>\n",
              "<table border=\"1\" class=\"dataframe\">\n",
              "  <thead>\n",
              "    <tr style=\"text-align: right;\">\n",
              "      <th></th>\n",
              "      <th></th>\n",
              "      <th>Casos</th>\n",
              "    </tr>\n",
              "    <tr>\n",
              "      <th>Cantidad de Fallecidos</th>\n",
              "      <th>Cantidad de Recuperados</th>\n",
              "      <th></th>\n",
              "    </tr>\n",
              "  </thead>\n",
              "  <tbody>\n",
              "    <tr>\n",
              "      <th>1081</th>\n",
              "      <th>7415</th>\n",
              "      <td>8789</td>\n",
              "    </tr>\n",
              "    <tr>\n",
              "      <th>10 092</th>\n",
              "      <th>158 519</th>\n",
              "      <td>170 304</td>\n",
              "    </tr>\n",
              "    <tr>\n",
              "      <th>10 261</th>\n",
              "      <th>111 612</th>\n",
              "      <td>126 043</td>\n",
              "    </tr>\n",
              "    <tr>\n",
              "      <th>10 392</th>\n",
              "      <th>59 711</th>\n",
              "      <td>76 649</td>\n",
              "    </tr>\n",
              "    <tr>\n",
              "      <th>11 120</th>\n",
              "      <th>210 879</th>\n",
              "      <td>229 072</td>\n",
              "    </tr>\n",
              "  </tbody>\n",
              "</table>\n",
              "</div>"
            ],
            "text/plain": [
              "                                                  Casos\n",
              "Cantidad de Fallecidos Cantidad de Recuperados         \n",
              "1081                   7415                        8789\n",
              "10 092                 158 519                  170 304\n",
              "10 261                 111 612                  126 043\n",
              "10 392                 59 711                    76 649\n",
              "11 120                 210 879                  229 072"
            ]
          },
          "metadata": {
            "tags": []
          },
          "execution_count": 6
        }
      ]
    },
    {
      "cell_type": "markdown",
      "metadata": {
        "id": "YAOqyMwlBdDH"
      },
      "source": [
        "Aqui le asinamos ceros a los valores que tienen \"null\", es decir que son nulos "
      ]
    },
    {
      "cell_type": "code",
      "metadata": {
        "colab": {
          "base_uri": "https://localhost:8080/",
          "height": 0
        },
        "id": "6Dt-NjphBWNX",
        "outputId": "6911a578-d50b-41f0-d260-7dfe9f294975"
      },
      "source": [
        "\n",
        "#Aqui le asinamos ceros a los valores que tienen \"null\", con .fillna(0), es decir que son nulos \n",
        "df_Help = df_Modif[[\"Cantidad de Recuperados\",\"Cantidad de Fallecidos\",\"Casos\"]].fillna(0)\n",
        "df_Help.columns = ['Cantidad_de_Recuperados','Cantidad_de_Fallecidos','Casos']\n",
        "df_Help.head(5)"
      ],
      "execution_count": 7,
      "outputs": [
        {
          "output_type": "execute_result",
          "data": {
            "text/html": [
              "<div>\n",
              "<style scoped>\n",
              "    .dataframe tbody tr th:only-of-type {\n",
              "        vertical-align: middle;\n",
              "    }\n",
              "\n",
              "    .dataframe tbody tr th {\n",
              "        vertical-align: top;\n",
              "    }\n",
              "\n",
              "    .dataframe thead th {\n",
              "        text-align: right;\n",
              "    }\n",
              "</style>\n",
              "<table border=\"1\" class=\"dataframe\">\n",
              "  <thead>\n",
              "    <tr style=\"text-align: right;\">\n",
              "      <th></th>\n",
              "      <th>Cantidad_de_Recuperados</th>\n",
              "      <th>Cantidad_de_Fallecidos</th>\n",
              "      <th>Casos</th>\n",
              "    </tr>\n",
              "  </thead>\n",
              "  <tbody>\n",
              "    <tr>\n",
              "      <th>0</th>\n",
              "      <td>0</td>\n",
              "      <td>0</td>\n",
              "      <td>0</td>\n",
              "    </tr>\n",
              "    <tr>\n",
              "      <th>1</th>\n",
              "      <td>0</td>\n",
              "      <td>0</td>\n",
              "      <td>0</td>\n",
              "    </tr>\n",
              "    <tr>\n",
              "      <th>2</th>\n",
              "      <td>531 532</td>\n",
              "      <td>38 132</td>\n",
              "      <td>592 456</td>\n",
              "    </tr>\n",
              "    <tr>\n",
              "      <th>3</th>\n",
              "      <td>210 879</td>\n",
              "      <td>11 120</td>\n",
              "      <td>229 072</td>\n",
              "    </tr>\n",
              "    <tr>\n",
              "      <th>4</th>\n",
              "      <td>185 357</td>\n",
              "      <td>30 527</td>\n",
              "      <td>228 018</td>\n",
              "    </tr>\n",
              "  </tbody>\n",
              "</table>\n",
              "</div>"
            ],
            "text/plain": [
              "  Cantidad_de_Recuperados Cantidad_de_Fallecidos    Casos\n",
              "0                       0                      0        0\n",
              "1                       0                      0        0\n",
              "2                 531 532                 38 132  592 456\n",
              "3                 210 879                 11 120  229 072\n",
              "4                 185 357                 30 527  228 018"
            ]
          },
          "metadata": {
            "tags": []
          },
          "execution_count": 7
        }
      ]
    },
    {
      "cell_type": "markdown",
      "metadata": {
        "id": "iVCRLMsfB32X"
      },
      "source": [
        "Aqui observamos la informacion y tipos de datos que tiene el df_Help, observando que tiene datos que son tipo object, es decir que tienen texto , entonces tendremos que limiparlos para que sean de tipo texto "
      ]
    },
    {
      "cell_type": "code",
      "metadata": {
        "colab": {
          "base_uri": "https://localhost:8080/"
        },
        "id": "tPIHB4zcBwvW",
        "outputId": "f0a06717-c97f-4e5f-8a24-144be2ea018e"
      },
      "source": [
        "df_Help.info()"
      ],
      "execution_count": 8,
      "outputs": [
        {
          "output_type": "stream",
          "text": [
            "<class 'pandas.core.frame.DataFrame'>\n",
            "RangeIndex: 36 entries, 0 to 35\n",
            "Data columns (total 3 columns):\n",
            " #   Column                   Non-Null Count  Dtype \n",
            "---  ------                   --------------  ----- \n",
            " 0   Cantidad_de_Recuperados  36 non-null     object\n",
            " 1   Cantidad_de_Fallecidos   36 non-null     object\n",
            " 2   Casos                    36 non-null     object\n",
            "dtypes: object(3)\n",
            "memory usage: 992.0+ bytes\n"
          ],
          "name": "stdout"
        }
      ]
    },
    {
      "cell_type": "markdown",
      "metadata": {
        "id": "by6lz3VhDSyr"
      },
      "source": [
        "Aqui elimine las dos últimas filas y las dos últimas columnas del Data Frame pues son 0. Pero no modifico el DF original, lo asigno a uno nuevo."
      ]
    },
    {
      "cell_type": "code",
      "metadata": {
        "id": "ReWsWr9MDcQD"
      },
      "source": [
        "df_Help_2 = df_Help.drop([0,1,34,35], axis = 0).reset_index().drop(['index'],axis = 1)"
      ],
      "execution_count": 9,
      "outputs": []
    },
    {
      "cell_type": "code",
      "metadata": {
        "colab": {
          "base_uri": "https://localhost:8080/",
          "height": 0
        },
        "id": "F4gEl9utDfJ4",
        "outputId": "d4470463-cf16-4793-f541-802f1a542c2c"
      },
      "source": [
        "df_Help_2"
      ],
      "execution_count": 10,
      "outputs": [
        {
          "output_type": "execute_result",
          "data": {
            "text/html": [
              "<div>\n",
              "<style scoped>\n",
              "    .dataframe tbody tr th:only-of-type {\n",
              "        vertical-align: middle;\n",
              "    }\n",
              "\n",
              "    .dataframe tbody tr th {\n",
              "        vertical-align: top;\n",
              "    }\n",
              "\n",
              "    .dataframe thead th {\n",
              "        text-align: right;\n",
              "    }\n",
              "</style>\n",
              "<table border=\"1\" class=\"dataframe\">\n",
              "  <thead>\n",
              "    <tr style=\"text-align: right;\">\n",
              "      <th></th>\n",
              "      <th>Cantidad_de_Recuperados</th>\n",
              "      <th>Cantidad_de_Fallecidos</th>\n",
              "      <th>Casos</th>\n",
              "    </tr>\n",
              "  </thead>\n",
              "  <tbody>\n",
              "    <tr>\n",
              "      <th>0</th>\n",
              "      <td>531 532</td>\n",
              "      <td>38 132</td>\n",
              "      <td>592 456</td>\n",
              "    </tr>\n",
              "    <tr>\n",
              "      <th>1</th>\n",
              "      <td>210 879</td>\n",
              "      <td>11 120</td>\n",
              "      <td>229 072</td>\n",
              "    </tr>\n",
              "    <tr>\n",
              "      <th>2</th>\n",
              "      <td>185 357</td>\n",
              "      <td>30 527</td>\n",
              "      <td>228 018</td>\n",
              "    </tr>\n",
              "    <tr>\n",
              "      <th>3</th>\n",
              "      <td>158 519</td>\n",
              "      <td>10 092</td>\n",
              "      <td>170 304</td>\n",
              "    </tr>\n",
              "    <tr>\n",
              "      <th>4</th>\n",
              "      <td>111 612</td>\n",
              "      <td>10 261</td>\n",
              "      <td>126 043</td>\n",
              "    </tr>\n",
              "    <tr>\n",
              "      <th>5</th>\n",
              "      <td>59 711</td>\n",
              "      <td>10 392</td>\n",
              "      <td>76 649</td>\n",
              "    </tr>\n",
              "    <tr>\n",
              "      <th>6</th>\n",
              "      <td>61 824</td>\n",
              "      <td>6223</td>\n",
              "      <td>69 288</td>\n",
              "    </tr>\n",
              "    <tr>\n",
              "      <th>7</th>\n",
              "      <td>59 024</td>\n",
              "      <td>5837</td>\n",
              "      <td>65 991</td>\n",
              "    </tr>\n",
              "    <tr>\n",
              "      <th>8</th>\n",
              "      <td>54 921</td>\n",
              "      <td>5631</td>\n",
              "      <td>62 529</td>\n",
              "    </tr>\n",
              "    <tr>\n",
              "      <th>9</th>\n",
              "      <td>52 721</td>\n",
              "      <td>3985</td>\n",
              "      <td>62 082</td>\n",
              "    </tr>\n",
              "    <tr>\n",
              "      <th>10</th>\n",
              "      <td>55 173</td>\n",
              "      <td>3879</td>\n",
              "      <td>59 752</td>\n",
              "    </tr>\n",
              "    <tr>\n",
              "      <th>11</th>\n",
              "      <td>49 559</td>\n",
              "      <td>5036</td>\n",
              "      <td>59 558</td>\n",
              "    </tr>\n",
              "    <tr>\n",
              "      <th>12</th>\n",
              "      <td>48 606</td>\n",
              "      <td>5536</td>\n",
              "      <td>57 139</td>\n",
              "    </tr>\n",
              "    <tr>\n",
              "      <th>13</th>\n",
              "      <td>46 438</td>\n",
              "      <td>8584</td>\n",
              "      <td>56 806</td>\n",
              "    </tr>\n",
              "    <tr>\n",
              "      <th>14</th>\n",
              "      <td>45 402</td>\n",
              "      <td>4589</td>\n",
              "      <td>54 426</td>\n",
              "    </tr>\n",
              "    <tr>\n",
              "      <th>15</th>\n",
              "      <td>36 400</td>\n",
              "      <td>7687</td>\n",
              "      <td>45 952</td>\n",
              "    </tr>\n",
              "    <tr>\n",
              "      <th>16</th>\n",
              "      <td>39 185</td>\n",
              "      <td>3101</td>\n",
              "      <td>42 807</td>\n",
              "    </tr>\n",
              "    <tr>\n",
              "      <th>17</th>\n",
              "      <td>30 246</td>\n",
              "      <td>3895</td>\n",
              "      <td>36 885</td>\n",
              "    </tr>\n",
              "    <tr>\n",
              "      <th>18</th>\n",
              "      <td>26 758</td>\n",
              "      <td>5725</td>\n",
              "      <td>35 944</td>\n",
              "    </tr>\n",
              "    <tr>\n",
              "      <th>19</th>\n",
              "      <td>29 356</td>\n",
              "      <td>5555</td>\n",
              "      <td>35 404</td>\n",
              "    </tr>\n",
              "    <tr>\n",
              "      <th>20</th>\n",
              "      <td>29 772</td>\n",
              "      <td>3667</td>\n",
              "      <td>34 269</td>\n",
              "    </tr>\n",
              "    <tr>\n",
              "      <th>21</th>\n",
              "      <td>26 777</td>\n",
              "      <td>2618</td>\n",
              "      <td>31 813</td>\n",
              "    </tr>\n",
              "    <tr>\n",
              "      <th>22</th>\n",
              "      <td>23514</td>\n",
              "      <td>2633</td>\n",
              "      <td>29 021</td>\n",
              "    </tr>\n",
              "    <tr>\n",
              "      <th>23</th>\n",
              "      <td>24 711</td>\n",
              "      <td>2782</td>\n",
              "      <td>28 394</td>\n",
              "    </tr>\n",
              "    <tr>\n",
              "      <th>24</th>\n",
              "      <td>25 102</td>\n",
              "      <td>1343</td>\n",
              "      <td>27 465</td>\n",
              "    </tr>\n",
              "    <tr>\n",
              "      <th>25</th>\n",
              "      <td>20 702</td>\n",
              "      <td>2327</td>\n",
              "      <td>24 098</td>\n",
              "    </tr>\n",
              "    <tr>\n",
              "      <th>26</th>\n",
              "      <td>17 273</td>\n",
              "      <td>2455</td>\n",
              "      <td>20 810</td>\n",
              "    </tr>\n",
              "    <tr>\n",
              "      <th>27</th>\n",
              "      <td>11680</td>\n",
              "      <td>2242</td>\n",
              "      <td>18 010</td>\n",
              "    </tr>\n",
              "    <tr>\n",
              "      <th>28</th>\n",
              "      <td>8896</td>\n",
              "      <td>1769</td>\n",
              "      <td>11 168</td>\n",
              "    </tr>\n",
              "    <tr>\n",
              "      <th>29</th>\n",
              "      <td>8243</td>\n",
              "      <td>1206</td>\n",
              "      <td>10 687</td>\n",
              "    </tr>\n",
              "    <tr>\n",
              "      <th>30</th>\n",
              "      <td>8512</td>\n",
              "      <td>1468</td>\n",
              "      <td>10 285</td>\n",
              "    </tr>\n",
              "    <tr>\n",
              "      <th>31</th>\n",
              "      <td>7415</td>\n",
              "      <td>1081</td>\n",
              "      <td>8789</td>\n",
              "    </tr>\n",
              "  </tbody>\n",
              "</table>\n",
              "</div>"
            ],
            "text/plain": [
              "   Cantidad_de_Recuperados Cantidad_de_Fallecidos    Casos\n",
              "0                  531 532                 38 132  592 456\n",
              "1                  210 879                 11 120  229 072\n",
              "2                  185 357                 30 527  228 018\n",
              "3                  158 519                 10 092  170 304\n",
              "4                  111 612                 10 261  126 043\n",
              "5                   59 711                 10 392   76 649\n",
              "6                   61 824                   6223   69 288\n",
              "7                   59 024                   5837   65 991\n",
              "8                   54 921                   5631   62 529\n",
              "9                   52 721                   3985   62 082\n",
              "10                  55 173                   3879   59 752\n",
              "11                  49 559                   5036   59 558\n",
              "12                  48 606                   5536   57 139\n",
              "13                  46 438                   8584   56 806\n",
              "14                  45 402                   4589   54 426\n",
              "15                  36 400                   7687   45 952\n",
              "16                  39 185                   3101   42 807\n",
              "17                  30 246                   3895   36 885\n",
              "18                  26 758                   5725   35 944\n",
              "19                  29 356                   5555   35 404\n",
              "20                  29 772                   3667   34 269\n",
              "21                  26 777                   2618   31 813\n",
              "22                   23514                   2633   29 021\n",
              "23                  24 711                   2782   28 394\n",
              "24                  25 102                   1343   27 465\n",
              "25                  20 702                   2327   24 098\n",
              "26                  17 273                   2455   20 810\n",
              "27                   11680                   2242   18 010\n",
              "28                    8896                   1769   11 168\n",
              "29                    8243                   1206   10 687\n",
              "30                    8512                   1468   10 285\n",
              "31                    7415                   1081     8789"
            ]
          },
          "metadata": {
            "tags": []
          },
          "execution_count": 10
        }
      ]
    },
    {
      "cell_type": "markdown",
      "metadata": {
        "id": "ok9GnqbCDpPo"
      },
      "source": [
        "Aqui modifique me fije que las columnas de casos, cantidad_de_fallecidos,cantidad_de_recuperados son de tipo object por que tienen \"\\xa\" entre los numeros y eso hay que eliminarlo. para que quede solo dato numerico."
      ]
    },
    {
      "cell_type": "code",
      "metadata": {
        "colab": {
          "base_uri": "https://localhost:8080/"
        },
        "id": "3DYdILIcEvZ_",
        "outputId": "07c5ebe9-0026-4b3f-c0b8-9ab7295508e5"
      },
      "source": [
        "#Aqui modifique la primer columna de\"Cantidad_de_Recuperados\" para que quedaran puros datos numericos enteros.\n",
        "df_Help_2[\"Cantidad_de_Recuperados\"] = df_Help_2[\"Cantidad_de_Recuperados\"].apply(lambda x: x.replace(u'\\xa0', u''))\n",
        "df_Help_2[\"Cantidad_de_Recuperados\"]= df_Help_2[\"Cantidad_de_Recuperados\"].astype(int)\n",
        "df_Help_2[\"Cantidad_de_Recuperados\"]"
      ],
      "execution_count": 11,
      "outputs": [
        {
          "output_type": "execute_result",
          "data": {
            "text/plain": [
              "0     531532\n",
              "1     210879\n",
              "2     185357\n",
              "3     158519\n",
              "4     111612\n",
              "5      59711\n",
              "6      61824\n",
              "7      59024\n",
              "8      54921\n",
              "9      52721\n",
              "10     55173\n",
              "11     49559\n",
              "12     48606\n",
              "13     46438\n",
              "14     45402\n",
              "15     36400\n",
              "16     39185\n",
              "17     30246\n",
              "18     26758\n",
              "19     29356\n",
              "20     29772\n",
              "21     26777\n",
              "22     23514\n",
              "23     24711\n",
              "24     25102\n",
              "25     20702\n",
              "26     17273\n",
              "27     11680\n",
              "28      8896\n",
              "29      8243\n",
              "30      8512\n",
              "31      7415\n",
              "Name: Cantidad_de_Recuperados, dtype: int64"
            ]
          },
          "metadata": {
            "tags": []
          },
          "execution_count": 11
        }
      ]
    },
    {
      "cell_type": "code",
      "metadata": {
        "colab": {
          "base_uri": "https://localhost:8080/"
        },
        "id": "D7iELKzNFBal",
        "outputId": "45fb3311-6f71-4a66-c704-94f58c0c37ac"
      },
      "source": [
        "#Aqui modifique la segunda columna de\"Cantidad_de_Fallecidos\" para que quedaran puros datos numericos enteros.\n",
        "df_Help_2[\"Cantidad_de_Fallecidos\"] = df_Help_2[\"Cantidad_de_Fallecidos\"].apply(lambda x: x.replace(u'\\xa0', u''))\n",
        "df_Help_2[\"Cantidad_de_Fallecidos\"]= df_Help_2[\"Cantidad_de_Fallecidos\"].astype(int)\n",
        "df_Help_2[\"Cantidad_de_Fallecidos\"]"
      ],
      "execution_count": 12,
      "outputs": [
        {
          "output_type": "execute_result",
          "data": {
            "text/plain": [
              "0     38132\n",
              "1     11120\n",
              "2     30527\n",
              "3     10092\n",
              "4     10261\n",
              "5     10392\n",
              "6      6223\n",
              "7      5837\n",
              "8      5631\n",
              "9      3985\n",
              "10     3879\n",
              "11     5036\n",
              "12     5536\n",
              "13     8584\n",
              "14     4589\n",
              "15     7687\n",
              "16     3101\n",
              "17     3895\n",
              "18     5725\n",
              "19     5555\n",
              "20     3667\n",
              "21     2618\n",
              "22     2633\n",
              "23     2782\n",
              "24     1343\n",
              "25     2327\n",
              "26     2455\n",
              "27     2242\n",
              "28     1769\n",
              "29     1206\n",
              "30     1468\n",
              "31     1081\n",
              "Name: Cantidad_de_Fallecidos, dtype: int64"
            ]
          },
          "metadata": {
            "tags": []
          },
          "execution_count": 12
        }
      ]
    },
    {
      "cell_type": "code",
      "metadata": {
        "colab": {
          "base_uri": "https://localhost:8080/"
        },
        "id": "m6CEJnjfFhzv",
        "outputId": "62ff430b-3ac0-4f47-8b79-b85e9de9cb7b"
      },
      "source": [
        "#Aqui modifique la Tercer columna de\"Casos\" para que quedaran puros datos numericos enteros.\n",
        "df_Help_2[\"Casos\"] = df_Help_2[\"Casos\"].apply(lambda x: x.replace(u'\\xa0', u''))\n",
        "df_Help_2[\"Casos\"] = df_Help_2[\"Casos\"].astype(int)\n",
        "df_Help_2[\"Casos\"]"
      ],
      "execution_count": 13,
      "outputs": [
        {
          "output_type": "execute_result",
          "data": {
            "text/plain": [
              "0     592456\n",
              "1     229072\n",
              "2     228018\n",
              "3     170304\n",
              "4     126043\n",
              "5      76649\n",
              "6      69288\n",
              "7      65991\n",
              "8      62529\n",
              "9      62082\n",
              "10     59752\n",
              "11     59558\n",
              "12     57139\n",
              "13     56806\n",
              "14     54426\n",
              "15     45952\n",
              "16     42807\n",
              "17     36885\n",
              "18     35944\n",
              "19     35404\n",
              "20     34269\n",
              "21     31813\n",
              "22     29021\n",
              "23     28394\n",
              "24     27465\n",
              "25     24098\n",
              "26     20810\n",
              "27     18010\n",
              "28     11168\n",
              "29     10687\n",
              "30     10285\n",
              "31      8789\n",
              "Name: Casos, dtype: int64"
            ]
          },
          "metadata": {
            "tags": []
          },
          "execution_count": 13
        }
      ]
    },
    {
      "cell_type": "markdown",
      "metadata": {
        "id": "jEn8Fn4tF33v"
      },
      "source": [
        "Aqui se hara la tabla de los casos que hay por estado"
      ]
    },
    {
      "cell_type": "code",
      "metadata": {
        "colab": {
          "base_uri": "https://localhost:8080/",
          "height": 0
        },
        "id": "gjg7s0s2F1ee",
        "outputId": "664393dc-2e9d-4543-d6e7-5e3ec42ca4fa"
      },
      "source": [
        "df_by_casosporEdo = df_Modif.groupby([\"Estados\"])[['Casos']].aggregate(pd.DataFrame.sum)\n",
        "df_by_casosporEdo.head(5)"
      ],
      "execution_count": 14,
      "outputs": [
        {
          "output_type": "execute_result",
          "data": {
            "text/html": [
              "<div>\n",
              "<style scoped>\n",
              "    .dataframe tbody tr th:only-of-type {\n",
              "        vertical-align: middle;\n",
              "    }\n",
              "\n",
              "    .dataframe tbody tr th {\n",
              "        vertical-align: top;\n",
              "    }\n",
              "\n",
              "    .dataframe thead th {\n",
              "        text-align: right;\n",
              "    }\n",
              "</style>\n",
              "<table border=\"1\" class=\"dataframe\">\n",
              "  <thead>\n",
              "    <tr style=\"text-align: right;\">\n",
              "      <th></th>\n",
              "      <th>Casos</th>\n",
              "    </tr>\n",
              "    <tr>\n",
              "      <th>Estados</th>\n",
              "      <th></th>\n",
              "    </tr>\n",
              "  </thead>\n",
              "  <tbody>\n",
              "    <tr>\n",
              "      <th>Aguascalientes</th>\n",
              "      <td>24 098</td>\n",
              "    </tr>\n",
              "    <tr>\n",
              "      <th>Baja California</th>\n",
              "      <td>45 952</td>\n",
              "    </tr>\n",
              "    <tr>\n",
              "      <th>Baja California Sur</th>\n",
              "      <td>27 465</td>\n",
              "    </tr>\n",
              "    <tr>\n",
              "      <th>Campeche</th>\n",
              "      <td>8789</td>\n",
              "    </tr>\n",
              "    <tr>\n",
              "      <th>Chiapas</th>\n",
              "      <td>10 285</td>\n",
              "    </tr>\n",
              "  </tbody>\n",
              "</table>\n",
              "</div>"
            ],
            "text/plain": [
              "                      Casos\n",
              "Estados                    \n",
              "Aguascalientes       24 098\n",
              "Baja California      45 952\n",
              "Baja California Sur  27 465\n",
              "Campeche               8789\n",
              "Chiapas              10 285"
            ]
          },
          "metadata": {
            "tags": []
          },
          "execution_count": 14
        }
      ]
    },
    {
      "cell_type": "code",
      "metadata": {
        "colab": {
          "base_uri": "https://localhost:8080/"
        },
        "id": "-zhulFhOIyCn",
        "outputId": "bb2ae042-e1f9-403a-b4c4-fb3169e5e190"
      },
      "source": [
        "#Aqui tabulamos los datos dela nueva base de datos llamada df_Help_2\n",
        "print_tabulate(df_Help_2.head(5))"
      ],
      "execution_count": 15,
      "outputs": [
        {
          "output_type": "stream",
          "text": [
            "|    |   Cantidad_de_Recuperados |   Cantidad_de_Fallecidos |   Casos |\n",
            "|----+---------------------------+--------------------------+---------|\n",
            "|  0 |                    531532 |                    38132 |  592456 |\n",
            "|  1 |                    210879 |                    11120 |  229072 |\n",
            "|  2 |                    185357 |                    30527 |  228018 |\n",
            "|  3 |                    158519 |                    10092 |  170304 |\n",
            "|  4 |                    111612 |                    10261 |  126043 |\n"
          ],
          "name": "stdout"
        }
      ]
    },
    {
      "cell_type": "markdown",
      "metadata": {
        "id": "3Mu9fYOZKPpo"
      },
      "source": [
        "Grafico de Caja de Bigotes "
      ]
    },
    {
      "cell_type": "code",
      "metadata": {
        "colab": {
          "base_uri": "https://localhost:8080/",
          "height": 0
        },
        "id": "G-mYM7kUI_zR",
        "outputId": "f77823a8-c0b4-4132-f38e-bc9374572311"
      },
      "source": [
        "df_Help_2.loc[:,'Cantidad_de_Recuperados'].plot(kind='box',figsize=(4,4))\n",
        "plt.title('Grafica de caja de Casos de Covid en Mexico') #Aqui es para agregar el titulo\n",
        "plt.ylabel('Casos Mexico')\n",
        "plt.grid(linestyle='--')\n",
        "plt.tight_layout()"
      ],
      "execution_count": 16,
      "outputs": [
        {
          "output_type": "display_data",
          "data": {
            "image/png": "[encoded data removed]",
            "text/plain": [
              "<Figure size 288x288 with 1 Axes>"
            ]
          },
          "metadata": {
            "tags": [],
            "needs_background": "light"
          }
        }
      ]
    },
    {
      "cell_type": "markdown",
      "metadata": {
        "id": "kKBYWYHtKfy3"
      },
      "source": [
        "Aqui obtengo la info del segundo df_Help_2 los tipos de datos del df "
      ]
    },
    {
      "cell_type": "code",
      "metadata": {
        "colab": {
          "base_uri": "https://localhost:8080/"
        },
        "id": "aR-eh_vLKT1d",
        "outputId": "db10fd82-1738-4f01-ee71-3757cc53419f"
      },
      "source": [
        "df_Help_2.info()"
      ],
      "execution_count": 17,
      "outputs": [
        {
          "output_type": "stream",
          "text": [
            "<class 'pandas.core.frame.DataFrame'>\n",
            "RangeIndex: 32 entries, 0 to 31\n",
            "Data columns (total 3 columns):\n",
            " #   Column                   Non-Null Count  Dtype\n",
            "---  ------                   --------------  -----\n",
            " 0   Cantidad_de_Recuperados  32 non-null     int64\n",
            " 1   Cantidad_de_Fallecidos   32 non-null     int64\n",
            " 2   Casos                    32 non-null     int64\n",
            "dtypes: int64(3)\n",
            "memory usage: 896.0 bytes\n"
          ],
          "name": "stdout"
        }
      ]
    },
    {
      "cell_type": "markdown",
      "metadata": {
        "id": "SsQd219cLBOW"
      },
      "source": [
        "Aqui hacemos el plot de las columnas de \"Cantidad_de_Recuperados\" con  \"Casos\""
      ]
    },
    {
      "cell_type": "code",
      "metadata": {
        "colab": {
          "base_uri": "https://localhost:8080/",
          "height": 0
        },
        "id": "GKI73DdmK1TV",
        "outputId": "014d874d-a35e-4982-94e9-1b6238dc3ece"
      },
      "source": [
        "df_Help_2.plot(x=\"Cantidad_de_Recuperados\", y = 'Casos', legend=False, figsize=(4,4))\n",
        "plt.title(\"Plot de Cant Recuperados\")  #Aqui es para agregar titulo al grafico "
      ],
      "execution_count": 18,
      "outputs": [
        {
          "output_type": "execute_result",
          "data": {
            "text/plain": [
              "Text(0.5, 1.0, 'Plot de Cant Recuperados')"
            ]
          },
          "metadata": {
            "tags": []
          },
          "execution_count": 18
        },
        {
          "output_type": "display_data",
          "data": {
            "image/png": "[encoded data removed]",
            "text/plain": [
              "<Figure size 288x288 with 1 Axes>"
            ]
          },
          "metadata": {
            "tags": [],
            "needs_background": "light"
          }
        }
      ]
    },
    {
      "cell_type": "markdown",
      "metadata": {
        "id": "he-vv8gJLVfM"
      },
      "source": [
        "Aqui hacemos el plot de las columnas de \"Cantidad_de_Fallecidos\" con \"Casos\""
      ]
    },
    {
      "cell_type": "code",
      "metadata": {
        "colab": {
          "base_uri": "https://localhost:8080/",
          "height": 0
        },
        "id": "PwuiNT1bLUDg",
        "outputId": "08393732-afcd-4d97-f5e3-f4b7f146b67c"
      },
      "source": [
        "df_Help_2.plot(x=\"Cantidad_de_Fallecidos\", y='Casos', legend=False, figsize=(4,4))\n",
        "plt.title(\"Plot de Cant fallecidos\")  #Aqui es para agregar titulo al grafico "
      ],
      "execution_count": 19,
      "outputs": [
        {
          "output_type": "execute_result",
          "data": {
            "text/plain": [
              "Text(0.5, 1.0, 'Plot de Cant fallecidos')"
            ]
          },
          "metadata": {
            "tags": []
          },
          "execution_count": 19
        },
        {
          "output_type": "display_data",
          "data": {
            "image/png": "[encoded data removed]",
            "text/plain": [
              "<Figure size 288x288 with 1 Axes>"
            ]
          },
          "metadata": {
            "tags": [],
            "needs_background": "light"
          }
        }
      ]
    },
    {
      "cell_type": "markdown",
      "metadata": {
        "id": "k7y0-exKL6le"
      },
      "source": [
        "Hacemos dos graficos en una sola ventana "
      ]
    },
    {
      "cell_type": "code",
      "metadata": {
        "colab": {
          "base_uri": "https://localhost:8080/",
          "height": 0
        },
        "id": "KuIK5-7WL2bs",
        "outputId": "c99b6e88-2797-44ac-bf2d-41c48d968697"
      },
      "source": [
        "#Dos gráficos en una sola notación\n",
        "\n",
        "plt.subplot(121) #GRAFICO 1\n",
        "plt.plot(df_Help_2.loc[:,'Cantidad_de_Recuperados'],df_Help_2.loc[:,'Casos'])\n",
        "plt.ylabel('Casos')\n",
        "plt.xlabel('Cantidad de recuperados')\n",
        "plt.tight_layout()\n",
        "plt.title(\"Gráfico de Cant fallecidos\") #Aqui es para agregar titulo al grafico 1\n",
        "plt.subplot(122) #GRAFICO 2\n",
        "plt.plot(df_Help_2.loc[:,'Cantidad_de_Fallecidos'],df_Help_2.loc[:,'Casos'])\n",
        "plt.xlabel('Cantidad de fallecidos')\n",
        "plt.tight_layout()\n",
        "plt.title(\"Gráfico de Cant fallecidos\")  #Aqui es para agregar titulo al grafico 2"
      ],
      "execution_count": 20,
      "outputs": [
        {
          "output_type": "execute_result",
          "data": {
            "text/plain": [
              "Text(0.5, 1.0, 'Gráfico de Cant fallecidos')"
            ]
          },
          "metadata": {
            "tags": []
          },
          "execution_count": 20
        },
        {
          "output_type": "display_data",
          "data": {
            "image/png": "[encoded data removed]",
            "text/plain": [
              "<Figure size 432x288 with 2 Axes>"
            ]
          },
          "metadata": {
            "tags": [],
            "needs_background": "light"
          }
        }
      ]
    },
    {
      "cell_type": "code",
      "metadata": {
        "colab": {
          "base_uri": "https://localhost:8080/",
          "height": 0
        },
        "id": "VEhcxb4kMRox",
        "outputId": "c743d54c-2c91-4da4-f813-ce08d39d2aea"
      },
      "source": [
        "#DOS GRAFICOS DE PUNTOS en una sola notación\n",
        "\n",
        "plt.subplot(121) #GRAFICO 1\n",
        "plt.plot(df_Help_2.loc[:,'Cantidad_de_Recuperados'],df_Help_2.loc[:,'Casos'],'o')\n",
        "plt.ylabel('Casos')\n",
        "plt.xlabel('Cantidad de recuperados')\n",
        "plt.tight_layout()\n",
        "plt.title(\"Gráfico de Cant fallecidos\") #Aqui es para agregar titulo al grafico 1\n",
        "plt.subplot(122) #GRAFICO 2\n",
        "plt.plot(df_Help_2.loc[:,'Cantidad_de_Fallecidos'],df_Help_2.loc[:,'Casos'],'o')\n",
        "plt.xlabel('Cantidad de fallecidos')\n",
        "plt.tight_layout()\n",
        "plt.title(\"Gráfico de Cant fallecidos\")  #Aqui es para agregar titulo al grafico 2"
      ],
      "execution_count": 21,
      "outputs": [
        {
          "output_type": "execute_result",
          "data": {
            "text/plain": [
              "Text(0.5, 1.0, 'Gráfico de Cant fallecidos')"
            ]
          },
          "metadata": {
            "tags": []
          },
          "execution_count": 21
        },
        {
          "output_type": "display_data",
          "data": {
            "image/png": "[encoded data removed]",
            "text/plain": [
              "<Figure size 432x288 with 2 Axes>"
            ]
          },
          "metadata": {
            "tags": [],
            "needs_background": "light"
          }
        }
      ]
    },
    {
      "cell_type": "code",
      "metadata": {
        "colab": {
          "base_uri": "https://localhost:8080/",
          "height": 0
        },
        "id": "xZUfLOlOMevb",
        "outputId": "4e1d968f-c334-4f7d-9ff2-9c03c484eb9d"
      },
      "source": [
        "#DOS GRAFICOS PUNTEADOS en una sola notación.\n",
        "plt.subplot(121) #GRAFICO 1\n",
        "plt.plot(df_Help_2.loc[:,'Cantidad_de_Recuperados'],df_Help_2.loc[:,'Casos'],'--')\n",
        "plt.ylabel('Casos')\n",
        "plt.xlabel('Cantidad de recuperados')\n",
        "plt.tight_layout()\n",
        "plt.title(\"Gráfico de Cant fallecidos\") #Aqui es para agregar titulo al grafico 1\n",
        "plt.subplot(122) #GRAFICO 2\n",
        "plt.plot(df_Help_2.loc[:,'Cantidad_de_Fallecidos'],df_Help_2.loc[:,'Casos'],'--')\n",
        "plt.xlabel('Cantidad de fallecidos')\n",
        "plt.tight_layout()\n",
        "plt.title(\"Gráfico de Cant fallecidos\")  #Aqui es para agregar titulo al grafico 2"
      ],
      "execution_count": 22,
      "outputs": [
        {
          "output_type": "execute_result",
          "data": {
            "text/plain": [
              "Text(0.5, 1.0, 'Gráfico de Cant fallecidos')"
            ]
          },
          "metadata": {
            "tags": []
          },
          "execution_count": 22
        },
        {
          "output_type": "display_data",
          "data": {
            "image/png": "[encoded data removed]",
            "text/plain": [
              "<Figure size 432x288 with 2 Axes>"
            ]
          },
          "metadata": {
            "tags": [],
            "needs_background": "light"
          }
        }
      ]
    },
    {
      "cell_type": "code",
      "metadata": {
        "colab": {
          "base_uri": "https://localhost:8080/",
          "height": 0
        },
        "id": "5EEFIAb7Mybh",
        "outputId": "a8048e81-ab8b-4311-9424-009a83281682"
      },
      "source": [
        "#DOS GRAFICOS CON LAMINA en una sola notación.\n",
        "plt.subplot(121) #GRAFICO 1\n",
        "plt.plot(df_Help_2.loc[:,'Cantidad_de_Recuperados'],df_Help_2.loc[:,'Casos'])\n",
        "plt.ylabel('Casos')\n",
        "plt.xlabel('Cantidad de Cant recuperados')\n",
        "plt.title(\"Gráfico de Cant fallecidos\") #Aqui es para agregar titulo al grafico 1\n",
        "plt.grid()\n",
        "plt.tight_layout()\n",
        "plt.subplot(122) #GRAFICO 2\n",
        "plt.plot(df_Help_2.loc[:,'Cantidad_de_Fallecidos'],df_Help_2.loc[:,'Casos'])\n",
        "plt.xlabel('Cantidad de fallecidos')\n",
        "plt.title(\"Gráfico de Cant fallecidos\")  #Aqui es para agregar titulo al grafico 2\n",
        "plt.grid()\n",
        "plt.tight_layout()"
      ],
      "execution_count": 23,
      "outputs": [
        {
          "output_type": "display_data",
          "data": {
            "image/png": "[encoded data removed]",
            "text/plain": [
              "<Figure size 432x288 with 2 Axes>"
            ]
          },
          "metadata": {
            "tags": [],
            "needs_background": "light"
          }
        }
      ]
    },
    {
      "cell_type": "markdown",
      "metadata": {
        "id": "_GLKJLW7m6FF"
      },
      "source": [
        "Gráfico de casos confirmados con colores "
      ]
    },
    {
      "cell_type": "code",
      "metadata": {
        "colab": {
          "base_uri": "https://localhost:8080/",
          "height": 0
        },
        "id": "79cU2LMVmbqe",
        "outputId": "f9482253-4d85-4b68-d551-f34207bdb3ca"
      },
      "source": [
        "df_Help_2.sort_values('Casos').reset_index().drop('index',axis = 1).plot(kind = 'line')\n",
        "plt.title(\"Plot Casos Confirmados COVID en México\")  #Aqui es para agregar titulo al grafico "
      ],
      "execution_count": 24,
      "outputs": [
        {
          "output_type": "execute_result",
          "data": {
            "text/plain": [
              "Text(0.5, 1.0, 'Plot Casos Confirmados COVID en México')"
            ]
          },
          "metadata": {
            "tags": []
          },
          "execution_count": 24
        },
        {
          "output_type": "display_data",
          "data": {
            "image/png": "[encoded data removed]",
            "text/plain": [
              "<Figure size 432x288 with 1 Axes>"
            ]
          },
          "metadata": {
            "tags": [],
            "needs_background": "light"
          }
        }
      ]
    },
    {
      "cell_type": "markdown",
      "metadata": {
        "id": "F7pWyXU0nNJ3"
      },
      "source": [
        "Estadistica DESCRIPTIVA"
      ]
    },
    {
      "cell_type": "code",
      "metadata": {
        "colab": {
          "base_uri": "https://localhost:8080/",
          "height": 0
        },
        "id": "XSfbIF_ZnED6",
        "outputId": "069c00c8-bf26-4894-86fd-72cfc48d1213"
      },
      "source": [
        "#Estadistica DESCRIPTIVA de datos\n",
        "df_Help_2.describe()"
      ],
      "execution_count": 25,
      "outputs": [
        {
          "output_type": "execute_result",
          "data": {
            "text/html": [
              "<div>\n",
              "<style scoped>\n",
              "    .dataframe tbody tr th:only-of-type {\n",
              "        vertical-align: middle;\n",
              "    }\n",
              "\n",
              "    .dataframe tbody tr th {\n",
              "        vertical-align: top;\n",
              "    }\n",
              "\n",
              "    .dataframe thead th {\n",
              "        text-align: right;\n",
              "    }\n",
              "</style>\n",
              "<table border=\"1\" class=\"dataframe\">\n",
              "  <thead>\n",
              "    <tr style=\"text-align: right;\">\n",
              "      <th></th>\n",
              "      <th>Cantidad_de_Recuperados</th>\n",
              "      <th>Cantidad_de_Fallecidos</th>\n",
              "      <th>Casos</th>\n",
              "    </tr>\n",
              "  </thead>\n",
              "  <tbody>\n",
              "    <tr>\n",
              "      <th>count</th>\n",
              "      <td>32.000000</td>\n",
              "      <td>32.000000</td>\n",
              "      <td>32.000000</td>\n",
              "    </tr>\n",
              "    <tr>\n",
              "      <th>mean</th>\n",
              "      <td>65806.875000</td>\n",
              "      <td>6605.562500</td>\n",
              "      <td>75684.812500</td>\n",
              "    </tr>\n",
              "    <tr>\n",
              "      <th>std</th>\n",
              "      <td>98209.325751</td>\n",
              "      <td>7876.687788</td>\n",
              "      <td>109341.711919</td>\n",
              "    </tr>\n",
              "    <tr>\n",
              "      <th>min</th>\n",
              "      <td>7415.000000</td>\n",
              "      <td>1081.000000</td>\n",
              "      <td>8789.000000</td>\n",
              "    </tr>\n",
              "    <tr>\n",
              "      <th>25%</th>\n",
              "      <td>24411.750000</td>\n",
              "      <td>2577.250000</td>\n",
              "      <td>28161.750000</td>\n",
              "    </tr>\n",
              "    <tr>\n",
              "      <th>50%</th>\n",
              "      <td>37792.500000</td>\n",
              "      <td>4287.000000</td>\n",
              "      <td>44379.500000</td>\n",
              "    </tr>\n",
              "    <tr>\n",
              "      <th>75%</th>\n",
              "      <td>56135.750000</td>\n",
              "      <td>6589.000000</td>\n",
              "      <td>63394.500000</td>\n",
              "    </tr>\n",
              "    <tr>\n",
              "      <th>max</th>\n",
              "      <td>531532.000000</td>\n",
              "      <td>38132.000000</td>\n",
              "      <td>592456.000000</td>\n",
              "    </tr>\n",
              "  </tbody>\n",
              "</table>\n",
              "</div>"
            ],
            "text/plain": [
              "       Cantidad_de_Recuperados  Cantidad_de_Fallecidos          Casos\n",
              "count                32.000000               32.000000      32.000000\n",
              "mean              65806.875000             6605.562500   75684.812500\n",
              "std               98209.325751             7876.687788  109341.711919\n",
              "min                7415.000000             1081.000000    8789.000000\n",
              "25%               24411.750000             2577.250000   28161.750000\n",
              "50%               37792.500000             4287.000000   44379.500000\n",
              "75%               56135.750000             6589.000000   63394.500000\n",
              "max              531532.000000            38132.000000  592456.000000"
            ]
          },
          "metadata": {
            "tags": []
          },
          "execution_count": 25
        }
      ]
    },
    {
      "cell_type": "code",
      "metadata": {
        "id": "8g6Gy4eNnU22",
        "colab": {
          "base_uri": "https://localhost:8080/",
          "height": 0
        },
        "outputId": "3188b369-adf6-4ffd-94cf-3a2430c4138b"
      },
      "source": [
        "#Gráfica de barras de FRECUENCIAS de 3 columnas de casos\n",
        "df_Help_2.sort_values('Casos').reset_index().drop('index',axis = 1).plot(kind = 'bar')\n",
        "plt.tight_layout()\n",
        "plt.title(\"Frecuencias de Casos confirmados COVID en México\")  #Aqui es para agregar titulo al grafico "
      ],
      "execution_count": 26,
      "outputs": [
        {
          "output_type": "execute_result",
          "data": {
            "text/plain": [
              "Text(0.5, 1.0, 'Frecuencias de Casos confirmados COVID en México')"
            ]
          },
          "metadata": {
            "tags": []
          },
          "execution_count": 26
        },
        {
          "output_type": "display_data",
          "data": {
            "image/png": "[encoded data removed]",
            "text/plain": [
              "<Figure size 432x288 with 1 Axes>"
            ]
          },
          "metadata": {
            "tags": [],
            "needs_background": "light"
          }
        }
      ]
    },
    {
      "cell_type": "code",
      "metadata": {
        "id": "P_L1hh23oGif",
        "colab": {
          "base_uri": "https://localhost:8080/",
          "height": 0
        },
        "outputId": "d345c428-b9d8-496a-ec19-96d7a7eb665e"
      },
      "source": [
        "DJ = pd.DataFrame({'Estados':[24098,45952,27465,8789,10285]},index = ['Aguascalientes','BajaCalifornia','BajaCalif_Sur','Campeche','Chiapas'])\n",
        "DJ.plot(kind='bar')\n",
        "plt.title(\"Casos confirmados por Estado\")  #Aqui es para agregar titulo al grafico \n"
      ],
      "execution_count": 27,
      "outputs": [
        {
          "output_type": "execute_result",
          "data": {
            "text/plain": [
              "Text(0.5, 1.0, 'Casos confirmados por Estado')"
            ]
          },
          "metadata": {
            "tags": []
          },
          "execution_count": 27
        },
        {
          "output_type": "display_data",
          "data": {
            "image/png": "[encoded data removed]",
            "text/plain": [
              "<Figure size 432x288 with 1 Axes>"
            ]
          },
          "metadata": {
            "tags": [],
            "needs_background": "light"
          }
        }
      ]
    },
    {
      "cell_type": "markdown",
      "metadata": {
        "id": "vYrCQrR9sqIU"
      },
      "source": [
        "Histograma de casos"
      ]
    },
    {
      "cell_type": "code",
      "metadata": {
        "id": "x7wA5l7kwFtF"
      },
      "source": [
        "import matplotlib.pyplot as plot"
      ],
      "execution_count": 28,
      "outputs": []
    },
    {
      "cell_type": "code",
      "metadata": {
        "id": "PKLRf161soAm",
        "colab": {
          "base_uri": "https://localhost:8080/",
          "height": 0
        },
        "outputId": "e8b93495-efbc-47d3-c2e8-7e989e49ed2f"
      },
      "source": [
        "\n",
        "histograma=df_Help_2[\"Casos\"]\n",
        "intervalos = [10000,15000,20000,30000,40000] #indicamos los extremos de los intervalos\n",
        "plot.hist(x=df_Help_2[\"Casos\"], bins=intervalos, color='#F2AB6D', rwidth=0.85,)\n",
        "plot.title('Histograma de casos confirmados por Estados')\n",
        "plot.xlabel('Casos')\n",
        "plot.ylabel('Estados')\n",
        "plot.xticks(intervalos)\n",
        "\n",
        "plot.show() #dibujamos el histograma"
      ],
      "execution_count": 29,
      "outputs": [
        {
          "output_type": "display_data",
          "data": {
            "image/png": "[encoded data removed]",
            "text/plain": [
              "<Figure size 432x288 with 1 Axes>"
            ]
          },
          "metadata": {
            "tags": [],
            "needs_background": "light"
          }
        }
      ]
    },
    {
      "cell_type": "code",
      "metadata": {
        "id": "23EB0oIQyX5S",
        "colab": {
          "base_uri": "https://localhost:8080/",
          "height": 0
        },
        "outputId": "34fcf654-1e7a-4410-ef92-658c63522dd1"
      },
      "source": [
        "DJ2 = pd.DataFrame({'Casos confirmados':[24098,45952,27465,8789,10285]},index = ['Aguascalientes','Baja Calif Norte','Baja Calif Sur','Campeche','Chiapas'])\n",
        "DJ2.plot(kind = 'line')"
      ],
      "execution_count": 30,
      "outputs": [
        {
          "output_type": "execute_result",
          "data": {
            "text/plain": [
              "<matplotlib.axes._subplots.AxesSubplot at 0x7fab0af21990>"
            ]
          },
          "metadata": {
            "tags": []
          },
          "execution_count": 30
        },
        {
          "output_type": "display_data",
          "data": {
            "image/png": "[encoded data removed]",
            "text/plain": [
              "<Figure size 432x288 with 1 Axes>"
            ]
          },
          "metadata": {
            "tags": [],
            "needs_background": "light"
          }
        }
      ]
    },
    {
      "cell_type": "markdown",
      "metadata": {
        "id": "GNQiDOpK3A_x"
      },
      "source": [
        "Aqui sacamos el p valor con Anova"
      ]
    },
    {
      "cell_type": "code",
      "metadata": {
        "id": "F-zY_9GE2_fV",
        "colab": {
          "base_uri": "https://localhost:8080/"
        },
        "outputId": "5a09bcfe-27a4-4041-ce63-8faab39b3eaa"
      },
      "source": [
        "#Sacamos el p-valor\n",
        "modl = ols(\"Cantidad_de_Recuperados ~ Casos\", data=df_Help_2).fit()\n",
        "anova_df = sm.stats.anova_lm(modl, typ=2)\n",
        "if anova_df[\"PR(>F)\"][0] < 0.005:\n",
        "    print(\"hay diferencias\")\n",
        "    print(anova_df)\n",
        "    # Prueba tukey\n",
        "    # imprimir los resultados\n",
        "else:\n",
        "    print(\"No hay diferencias\")"
      ],
      "execution_count": 31,
      "outputs": [
        {
          "output_type": "stream",
          "text": [
            "hay diferencias\n",
            "                sum_sq    df             F        PR(>F)\n",
            "Casos     2.984498e+11   1.0  16356.884117  1.257497e-42\n",
            "Residual  5.473839e+08  30.0           NaN           NaN\n"
          ],
          "name": "stdout"
        }
      ]
    },
    {
      "cell_type": "markdown",
      "metadata": {
        "id": "cGmFSBwPg6c7"
      },
      "source": [
        "###REGRESION LINEAL *\n"
      ]
    },
    {
      "cell_type": "markdown",
      "metadata": {
        "id": "FWpqNfeEhMjP"
      },
      "source": [
        "*texto en cursiva*\n",
        "Definición\n",
        "\n",
        "La regresión lineal es, en palabras simples, cuando tenemos UNA sola variable que predice otra.\n",
        "\n",
        "La variable que predice se denomina **independiente** y la variable predicha se denomina **dependiente**.\n",
        "\n",
        "Modelo matemático.\n",
        "\n",
        "$$y_i = \\beta_0 + \\beta_1x_i + \\varepsilon_i$$\n",
        "\n",
        "Donde:\n",
        "\n",
        "1. $y_i$ es la variable de respuesta de la $i$-ésima prueba\n",
        "\n",
        "2. $\\beta_0$ y $\\beta_1$ son parámetros.\n",
        "\n",
        "3. $x_i$ es una constante conocida, el valor de la variable predictora en la $i$-ésima prueba.\n",
        "\n",
        "4. $\\varepsilon_i$ es un término de error aleatorio con $E\\{\\varepsilon_i \\} = 0$ y $\\sigma^2\\{\\varepsilon_i \\} = \\sigma^2$; $cov\\left(\\varepsilon_i , \\varepsilon_j \\right) = 0$.\n",
        "\n",
        "Se define a las $\\beta_0, \\beta_1$ del modelo de regresión como **coeficientes de regresión**.\n",
        "\n",
        "Se define como **pendiente de la línea de regresión** al coeficiente $\\beta_1$, este indica el cambio de la media de la probabilidad de distribución de $y$ por incremento por unidad de $x$.\n",
        "\n",
        "Se define como **intercepción de la línea de regresión** al coeficiente $\\beta_0$.\n",
        "\n"
      ]
    },
    {
      "cell_type": "code",
      "metadata": {
        "id": "AdMlLtKOlg-n"
      },
      "source": [
        "HGU = {'x':df_Help_2[\"Cantidad_de_Recuperados\"],'y':df_Help_2[\"Cantidad_de_Fallecidos\"]}\n",
        "HGUD = pd.DataFrame(HGU)"
      ],
      "execution_count": 32,
      "outputs": []
    },
    {
      "cell_type": "markdown",
      "metadata": {
        "id": "Sd9SdA1J8KZM"
      },
      "source": [
        "El \"HGUD\" trae las columnas de catidad de recuperados con cantidad de fallecidos."
      ]
    },
    {
      "cell_type": "markdown",
      "metadata": {
        "id": "oCu1ezmomzRo"
      },
      "source": [
        "1-Importamos la funcion linear_model y de ella LinearRegression"
      ]
    },
    {
      "cell_type": "code",
      "metadata": {
        "id": "bXXVBJGtnAUL"
      },
      "source": [
        "from sklearn.linear_model import LinearRegression"
      ],
      "execution_count": 33,
      "outputs": []
    },
    {
      "cell_type": "markdown",
      "metadata": {
        "id": "YeIPNbU4nIcD"
      },
      "source": [
        "2-Construimos una linea de regresion"
      ]
    },
    {
      "cell_type": "code",
      "metadata": {
        "id": "DPs8EaOrnSaa"
      },
      "source": [
        "Linea_Regresion = LinearRegression()"
      ],
      "execution_count": 34,
      "outputs": []
    },
    {
      "cell_type": "markdown",
      "metadata": {
        "id": "miirzgrRne3J"
      },
      "source": [
        "3-Definimos ejes"
      ]
    },
    {
      "cell_type": "code",
      "metadata": {
        "id": "OUOKm3cGoxDm"
      },
      "source": [
        "Eje_X = HGUD[['x']] #ESTA ES LA NOTACION PARA LAS COLUMNAS\n",
        "Eje_Y = HGUD[['y']]"
      ],
      "execution_count": 35,
      "outputs": []
    },
    {
      "cell_type": "markdown",
      "metadata": {
        "id": "BoFiQUZ8o9_8"
      },
      "source": [
        "4-Ajustamos el modelo a las variables dadas"
      ]
    },
    {
      "cell_type": "code",
      "metadata": {
        "colab": {
          "base_uri": "https://localhost:8080/"
        },
        "id": "-jTntZzDpCGF",
        "outputId": "2271e762-add0-4a4c-c965-03dddd4cc870"
      },
      "source": [
        "Linea_Regresion.fit(Eje_X,Eje_Y)"
      ],
      "execution_count": 36,
      "outputs": [
        {
          "output_type": "execute_result",
          "data": {
            "text/plain": [
              "LinearRegression(copy_X=True, fit_intercept=True, n_jobs=None, normalize=False)"
            ]
          },
          "metadata": {
            "tags": []
          },
          "execution_count": 36
        }
      ]
    },
    {
      "cell_type": "markdown",
      "metadata": {
        "id": "Q-5HsXzxpMzt"
      },
      "source": [
        "El valor de la pendiente (β1) es;"
      ]
    },
    {
      "cell_type": "code",
      "metadata": {
        "colab": {
          "base_uri": "https://localhost:8080/"
        },
        "id": "Zb68GbPLpQIP",
        "outputId": "2bddb87b-d06d-4996-e5d7-9495da9f2cbf"
      },
      "source": [
        "#El valor de la pendiente (β1) es; \n",
        "Linea_Regresion.coef_"
      ],
      "execution_count": 37,
      "outputs": [
        {
          "output_type": "execute_result",
          "data": {
            "text/plain": [
              "array([[0.07243349]])"
            ]
          },
          "metadata": {
            "tags": []
          },
          "execution_count": 37
        }
      ]
    },
    {
      "cell_type": "markdown",
      "metadata": {
        "id": "axjJW0sqpW8M"
      },
      "source": [
        "El valor de la interseccion (β0) es; "
      ]
    },
    {
      "cell_type": "code",
      "metadata": {
        "colab": {
          "base_uri": "https://localhost:8080/"
        },
        "id": "GdJZVoNRpgNm",
        "outputId": "72022951-72ab-4b50-87d0-603c04593349"
      },
      "source": [
        "#El valor de la interseccion (β0) es; \n",
        "Linea_Regresion.intercept_"
      ],
      "execution_count": 38,
      "outputs": [
        {
          "output_type": "execute_result",
          "data": {
            "text/plain": [
              "array([1838.94114393])"
            ]
          },
          "metadata": {
            "tags": []
          },
          "execution_count": 38
        }
      ]
    },
    {
      "cell_type": "markdown",
      "metadata": {
        "id": "MaZwV4nopzuu"
      },
      "source": [
        "Podemos concluir que la línea de regresión ajustada a los datos es\n",
        "\n",
        "$$\\hat{y}_i = 1838.78274684 + 0.07243382 x_i$$"
      ]
    },
    {
      "cell_type": "markdown",
      "metadata": {
        "id": "zU02xXtvtoDw"
      },
      "source": [
        "La ecuacion muestra que el coeficiente para los casos de fallecidos es de 0.07243382. El coeficiene indica que por cada caso de fallecido se puede esperar que los casos de covid-19 aumenten en promedio 7% en el siguiente mes."
      ]
    },
    {
      "cell_type": "code",
      "metadata": {
        "colab": {
          "base_uri": "https://localhost:8080/",
          "height": 282
        },
        "id": "QQNq6yM2rzbz",
        "outputId": "b4b37071-97a1-4e10-f65f-9072bbb78a3e"
      },
      "source": [
        "plt.plot(df_Help_2[\"Cantidad_de_Recuperados\"],df_Help_2[\"Cantidad_de_Fallecidos\"],'o')\n",
        "plt.plot([min(df_Help_2[\"Cantidad_de_Recuperados\"]),max(df_Help_2[\"Cantidad_de_Recuperados\"])],[1838.78274684+0.07243382*min(df_Help_2[\"Cantidad_de_Recuperados\"]),1838.78274684+0.07243382*max(df_Help_2[\"Cantidad_de_Recuperados\"])])"
      ],
      "execution_count": 39,
      "outputs": [
        {
          "output_type": "execute_result",
          "data": {
            "text/plain": [
              "[<matplotlib.lines.Line2D at 0x7fab07565890>]"
            ]
          },
          "metadata": {
            "tags": []
          },
          "execution_count": 39
        },
        {
          "output_type": "display_data",
          "data": {
            "image/png": "[encoded data removed]",
            "text/plain": [
              "<Figure size 432x288 with 1 Axes>"
            ]
          },
          "metadata": {
            "tags": [],
            "needs_background": "light"
          }
        }
      ]
    },
    {
      "cell_type": "markdown",
      "metadata": {
        "id": "1O4XUSK7tCNU"
      },
      "source": [
        "**En el gráfico observamos que tenemos una regresion lineal positiva y que la dispersion de los datos tiene una  relacion mas fuerte.**"
      ]
    },
    {
      "cell_type": "markdown",
      "metadata": {
        "id": "x7H_lH2wXNsd"
      },
      "source": [
        "### Forecasting"
      ]
    },
    {
      "cell_type": "markdown",
      "metadata": {
        "id": "2JRmDDgpw2gg"
      },
      "source": [
        "Debido a que mi data fram analizado no me otorga las fechas, y se asume que los datos solo son de ciertos dias, no tiene una sucesion de serie, por que esta limitada, por lo que analizare con la prueba F muestra la variacion de media de los grupos, para asi analizar su pronostico de crecimiento o decrecimiento, que en este caso como no hacemos uso de fechas, solo observaremos que tanto se puede pronosticar los estados en su crecimiento o decrecimiento en casos confirmados de covid-19 , al igual que casos de recuperacion y casos de fallecidos. Aqui solo me centrare en la prueba F y en la cantidad de recuperados y en la cantidad de fallecidos."
      ]
    },
    {
      "cell_type": "code",
      "metadata": {
        "id": "cR63g_7M6c2d"
      },
      "source": [
        "from statsmodels.stats.anova import anova_lm"
      ],
      "execution_count": 40,
      "outputs": []
    },
    {
      "cell_type": "code",
      "metadata": {
        "id": "EMCEmOXa6fJa"
      },
      "source": [
        "from statsmodels.formula.api import ols"
      ],
      "execution_count": 41,
      "outputs": []
    },
    {
      "cell_type": "code",
      "metadata": {
        "colab": {
          "base_uri": "https://localhost:8080/",
          "height": 131
        },
        "id": "h70eyGkT36MI",
        "outputId": "15120e55-af77-4989-ad8c-4b74f67c7085"
      },
      "source": [
        "HGU = {'x':df_Help_2[\"Cantidad_de_Recuperados\"],'y':df_Help_2[\"Cantidad_de_Fallecidos\"]}\n",
        "HGUD.transpose()"
      ],
      "execution_count": 42,
      "outputs": [
        {
          "output_type": "execute_result",
          "data": {
            "text/html": [
              "<div>\n",
              "<style scoped>\n",
              "    .dataframe tbody tr th:only-of-type {\n",
              "        vertical-align: middle;\n",
              "    }\n",
              "\n",
              "    .dataframe tbody tr th {\n",
              "        vertical-align: top;\n",
              "    }\n",
              "\n",
              "    .dataframe thead th {\n",
              "        text-align: right;\n",
              "    }\n",
              "</style>\n",
              "<table border=\"1\" class=\"dataframe\">\n",
              "  <thead>\n",
              "    <tr style=\"text-align: right;\">\n",
              "      <th></th>\n",
              "      <th>0</th>\n",
              "      <th>1</th>\n",
              "      <th>2</th>\n",
              "      <th>3</th>\n",
              "      <th>4</th>\n",
              "      <th>5</th>\n",
              "      <th>6</th>\n",
              "      <th>7</th>\n",
              "      <th>8</th>\n",
              "      <th>9</th>\n",
              "      <th>10</th>\n",
              "      <th>11</th>\n",
              "      <th>12</th>\n",
              "      <th>13</th>\n",
              "      <th>14</th>\n",
              "      <th>15</th>\n",
              "      <th>16</th>\n",
              "      <th>17</th>\n",
              "      <th>18</th>\n",
              "      <th>19</th>\n",
              "      <th>20</th>\n",
              "      <th>21</th>\n",
              "      <th>22</th>\n",
              "      <th>23</th>\n",
              "      <th>24</th>\n",
              "      <th>25</th>\n",
              "      <th>26</th>\n",
              "      <th>27</th>\n",
              "      <th>28</th>\n",
              "      <th>29</th>\n",
              "      <th>30</th>\n",
              "      <th>31</th>\n",
              "    </tr>\n",
              "  </thead>\n",
              "  <tbody>\n",
              "    <tr>\n",
              "      <th>x</th>\n",
              "      <td>531532</td>\n",
              "      <td>210879</td>\n",
              "      <td>185357</td>\n",
              "      <td>158519</td>\n",
              "      <td>111612</td>\n",
              "      <td>59711</td>\n",
              "      <td>61824</td>\n",
              "      <td>59024</td>\n",
              "      <td>54921</td>\n",
              "      <td>52721</td>\n",
              "      <td>55173</td>\n",
              "      <td>49559</td>\n",
              "      <td>48606</td>\n",
              "      <td>46438</td>\n",
              "      <td>45402</td>\n",
              "      <td>36400</td>\n",
              "      <td>39185</td>\n",
              "      <td>30246</td>\n",
              "      <td>26758</td>\n",
              "      <td>29356</td>\n",
              "      <td>29772</td>\n",
              "      <td>26777</td>\n",
              "      <td>23514</td>\n",
              "      <td>24711</td>\n",
              "      <td>25102</td>\n",
              "      <td>20702</td>\n",
              "      <td>17273</td>\n",
              "      <td>11680</td>\n",
              "      <td>8896</td>\n",
              "      <td>8243</td>\n",
              "      <td>8512</td>\n",
              "      <td>7415</td>\n",
              "    </tr>\n",
              "    <tr>\n",
              "      <th>y</th>\n",
              "      <td>38132</td>\n",
              "      <td>11120</td>\n",
              "      <td>30527</td>\n",
              "      <td>10092</td>\n",
              "      <td>10261</td>\n",
              "      <td>10392</td>\n",
              "      <td>6223</td>\n",
              "      <td>5837</td>\n",
              "      <td>5631</td>\n",
              "      <td>3985</td>\n",
              "      <td>3879</td>\n",
              "      <td>5036</td>\n",
              "      <td>5536</td>\n",
              "      <td>8584</td>\n",
              "      <td>4589</td>\n",
              "      <td>7687</td>\n",
              "      <td>3101</td>\n",
              "      <td>3895</td>\n",
              "      <td>5725</td>\n",
              "      <td>5555</td>\n",
              "      <td>3667</td>\n",
              "      <td>2618</td>\n",
              "      <td>2633</td>\n",
              "      <td>2782</td>\n",
              "      <td>1343</td>\n",
              "      <td>2327</td>\n",
              "      <td>2455</td>\n",
              "      <td>2242</td>\n",
              "      <td>1769</td>\n",
              "      <td>1206</td>\n",
              "      <td>1468</td>\n",
              "      <td>1081</td>\n",
              "    </tr>\n",
              "  </tbody>\n",
              "</table>\n",
              "</div>"
            ],
            "text/plain": [
              "       0       1       2       3       4   ...     27    28    29    30    31\n",
              "x  531532  210879  185357  158519  111612  ...  11680  8896  8243  8512  7415\n",
              "y   38132   11120   30527   10092   10261  ...   2242  1769  1206  1468  1081\n",
              "\n",
              "[2 rows x 32 columns]"
            ]
          },
          "metadata": {
            "tags": []
          },
          "execution_count": 42
        }
      ]
    },
    {
      "cell_type": "code",
      "metadata": {
        "id": "WGcjK6KI4wnS"
      },
      "source": [
        "#Necesitamos ajustar el modelo mediante ols, el primer argumento es la ecuacion de la regresion lineal.\n",
        "#El segundo es el data fram que estamos analizando.\n",
        "\n",
        "HGUD_fit = ols(formula='y ~ x',data = HGUD).fit()"
      ],
      "execution_count": 43,
      "outputs": []
    },
    {
      "cell_type": "code",
      "metadata": {
        "colab": {
          "base_uri": "https://localhost:8080/",
          "height": 111
        },
        "id": "kDcRvXz96KIo",
        "outputId": "92288799-3c5e-49cc-9146-2c01a1a89faa"
      },
      "source": [
        "Anova_HGUD = anova_lm(HGUD_fit)\n",
        "Anova_HGUD"
      ],
      "execution_count": 44,
      "outputs": [
        {
          "output_type": "execute_result",
          "data": {
            "text/html": [
              "<div>\n",
              "<style scoped>\n",
              "    .dataframe tbody tr th:only-of-type {\n",
              "        vertical-align: middle;\n",
              "    }\n",
              "\n",
              "    .dataframe tbody tr th {\n",
              "        vertical-align: top;\n",
              "    }\n",
              "\n",
              "    .dataframe thead th {\n",
              "        text-align: right;\n",
              "    }\n",
              "</style>\n",
              "<table border=\"1\" class=\"dataframe\">\n",
              "  <thead>\n",
              "    <tr style=\"text-align: right;\">\n",
              "      <th></th>\n",
              "      <th>df</th>\n",
              "      <th>sum_sq</th>\n",
              "      <th>mean_sq</th>\n",
              "      <th>F</th>\n",
              "      <th>PR(&gt;F)</th>\n",
              "    </tr>\n",
              "  </thead>\n",
              "  <tbody>\n",
              "    <tr>\n",
              "      <th>x</th>\n",
              "      <td>1.0</td>\n",
              "      <td>1.568722e+09</td>\n",
              "      <td>1.568722e+09</td>\n",
              "      <td>132.722539</td>\n",
              "      <td>1.534959e-12</td>\n",
              "    </tr>\n",
              "    <tr>\n",
              "      <th>Residual</th>\n",
              "      <td>30.0</td>\n",
              "      <td>3.545867e+08</td>\n",
              "      <td>1.181956e+07</td>\n",
              "      <td>NaN</td>\n",
              "      <td>NaN</td>\n",
              "    </tr>\n",
              "  </tbody>\n",
              "</table>\n",
              "</div>"
            ],
            "text/plain": [
              "            df        sum_sq       mean_sq           F        PR(>F)\n",
              "x          1.0  1.568722e+09  1.568722e+09  132.722539  1.534959e-12\n",
              "Residual  30.0  3.545867e+08  1.181956e+07         NaN           NaN"
            ]
          },
          "metadata": {
            "tags": []
          },
          "execution_count": 44
        }
      ]
    },
    {
      "cell_type": "markdown",
      "metadata": {
        "id": "rJirZQvb6xyi"
      },
      "source": [
        "Aqui tenemos la prueba F con un valor de 132.72 y residual de 0."
      ]
    },
    {
      "cell_type": "code",
      "metadata": {
        "id": "FpObCAQF7DLq"
      },
      "source": [
        "#PARA COMPARAR LA F CALCULADA CON EL VALOR CRITICO TENEMOS QUE IMPORTAR LA SIGUIENTE FUNCION\n",
        "\n",
        "from scipy.stats import f as Valor_Critico_F"
      ],
      "execution_count": 45,
      "outputs": []
    },
    {
      "cell_type": "code",
      "metadata": {
        "id": "WuVKGt1D7XTF"
      },
      "source": [
        "#EXTRAEMOS EL VALOR F DE Anova_HGUD\n",
        "\n",
        "Estadistico_Prueba_HGUD = Anova_HGUD.loc['x','F']"
      ],
      "execution_count": 46,
      "outputs": []
    },
    {
      "cell_type": "code",
      "metadata": {
        "id": "2ML-GfQc8BUc"
      },
      "source": [
        "#CALCULAMOS EL VALOR CRITICO\n",
        "\n",
        "Valor_Critico_HGUD = Valor_Critico_F.isf(0.05,1,len(HGUD.index)-2)"
      ],
      "execution_count": 47,
      "outputs": []
    },
    {
      "cell_type": "code",
      "metadata": {
        "colab": {
          "base_uri": "https://localhost:8080/"
        },
        "id": "d6uMV4kn8eSr",
        "outputId": "40fc3d06-e9e9-43af-c209-3fa13efc11ba"
      },
      "source": [
        "#NOS PREGUNTAMOS ENTONCES\n",
        "\n",
        "Estadistico_Prueba_HGUD > Valor_Critico_HGUD"
      ],
      "execution_count": 48,
      "outputs": [
        {
          "output_type": "execute_result",
          "data": {
            "text/plain": [
              "True"
            ]
          },
          "metadata": {
            "tags": []
          },
          "execution_count": 48
        }
      ]
    },
    {
      "cell_type": "code",
      "metadata": {
        "colab": {
          "base_uri": "https://localhost:8080/"
        },
        "id": "nVqHkhhC8mDf",
        "outputId": "a5f8c048-2cdc-45ca-b323-c22d3d2b90b7"
      },
      "source": [
        "Linea_Regresion_HGUD = LinearRegression()\n",
        "Linea_Regresion_HGUD.fit(HGUD[['x']],HGUD[['y']])"
      ],
      "execution_count": 49,
      "outputs": [
        {
          "output_type": "execute_result",
          "data": {
            "text/plain": [
              "LinearRegression(copy_X=True, fit_intercept=True, n_jobs=None, normalize=False)"
            ]
          },
          "metadata": {
            "tags": []
          },
          "execution_count": 49
        }
      ]
    },
    {
      "cell_type": "code",
      "metadata": {
        "colab": {
          "base_uri": "https://localhost:8080/"
        },
        "id": "fXHLeJNh8-5h",
        "outputId": "961fafa3-ebb3-49b8-c7c2-1d65bd20b1cb"
      },
      "source": [
        "Linea_Regresion_HGUD.coef_"
      ],
      "execution_count": 50,
      "outputs": [
        {
          "output_type": "execute_result",
          "data": {
            "text/plain": [
              "array([[0.07243349]])"
            ]
          },
          "metadata": {
            "tags": []
          },
          "execution_count": 50
        }
      ]
    },
    {
      "cell_type": "code",
      "metadata": {
        "colab": {
          "base_uri": "https://localhost:8080/"
        },
        "id": "LJ4PZ7TU9TG8",
        "outputId": "1abe56eb-74bf-439d-ac74-2fec01504364"
      },
      "source": [
        "Linea_Regresion_HGUD.intercept_"
      ],
      "execution_count": 51,
      "outputs": [
        {
          "output_type": "execute_result",
          "data": {
            "text/plain": [
              "array([1838.94114393])"
            ]
          },
          "metadata": {
            "tags": []
          },
          "execution_count": 51
        }
      ]
    },
    {
      "cell_type": "markdown",
      "metadata": {
        "id": "D7WvqvYS33Mg"
      },
      "source": [
        "$$\\hat{y} = 0.07243349\\cdot x + 1838.94114393$$"
      ]
    },
    {
      "cell_type": "code",
      "metadata": {
        "colab": {
          "base_uri": "https://localhost:8080/",
          "height": 297
        },
        "id": "6pM2OzDf9p5N",
        "outputId": "2c1e2de5-c086-41aa-ea35-00d93a49a7b0"
      },
      "source": [
        "#GRAFIQUEMOS LOS DATOS Y LA LINEA DE REGRESION\n",
        "\n",
        "plt.plot(df_Help_2[\"Cantidad_de_Recuperados\"],df_Help_2[\"Cantidad_de_Fallecidos\"],'o',color = 'green')\n",
        "plt.plot([min(df_Help_2[\"Cantidad_de_Recuperados\"]),max(df_Help_2[\"Cantidad_de_Recuperados\"])],[0.07243349*min(df_Help_2[\"Cantidad_de_Recuperados\"])+1838.94114393,0.07243349*max(df_Help_2[\"Cantidad_de_Recuperados\"])+1838.94114393])\n",
        "plt.ylabel('Cantidad de Fallecidos')\n",
        "plt.xlabel('Cantidad de Recuperados')\n",
        "plt.tight_layout()"
      ],
      "execution_count": 52,
      "outputs": [
        {
          "output_type": "display_data",
          "data": {
            "image/png": "[encoded data removed]",
            "text/plain": [
              "<Figure size 432x288 with 1 Axes>"
            ]
          },
          "metadata": {
            "tags": [],
            "needs_background": "light"
          }
        }
      ]
    },
    {
      "cell_type": "code",
      "metadata": {
        "colab": {
          "base_uri": "https://localhost:8080/"
        },
        "id": "yYp4GRUbXW6L",
        "outputId": "eefad714-8b78-4999-a361-910142810071"
      },
      "source": [
        "print_tabulate(df.head(50))"
      ],
      "execution_count": 53,
      "outputs": [
        {
          "output_type": "stream",
          "text": [
            "|    | Estados                                                                                                       | Casos   | Cantidad de Fallecidos   |   porcentaje de Fallecidos | Cantidad de Recuperados   |   porcentaje de Recuperados |   Casos por 100,000 habitantes | Reporte   |\n",
            "|----+---------------------------------------------------------------------------------------------------------------+---------+--------------------------+----------------------------+---------------------------+-----------------------------+--------------------------------+-----------|\n",
            "|  0 |                                                                                                               |         |                          |                            |                           |                             |                                |           |\n",
            "|  1 |                                                                                                               |         |                          |                            |                           |                             |                                |           |\n",
            "|  2 | Ciudad de México                                                                                              | 592 456 | 38 132                   |                       6.44 | 531 532                   |                       89.72 |                         6643.4 | [133]​     |\n",
            "|  3 | Jalisco                                                                                                       | 229 072 | 11 120                   |                       4.85 | 210 879                   |                       92.06 |                         2739.1 | [134]​     |\n",
            "|  4 | Estado de México                                                                                              | 228 018 | 30 527                   |                      13.39 | 185 357                   |                       81.29 |                         1261.9 | [135]​     |\n",
            "|  5 | Nuevo León                                                                                                    | 170 304 | 10 092                   |                       5.93 | 158 519                   |                       93.08 |                         3459.4 | [136]​     |\n",
            "|  6 | Guanajuato                                                                                                    | 126 043 | 10 261                   |                       8.14 | 111 612                   |                       88.55 |                         2089.2 | [137]​     |\n",
            "|  7 | Puebla                                                                                                        | 76 649  | 10 392                   |                      13.56 | 59 711                    |                       41.34 |                          609.1 | [138]​     |\n",
            "|  8 | Sonora                                                                                                        | 69 288  | 6223                     |                       8.98 | 61 824                    |                       89.23 |                         2540.8 | [139]​     |\n",
            "|  9 | Coahuila                                                                                                      | 65 991  | 5837                     |                       8.85 | 59 024                    |                       89.44 |                         2372.1 | [140]​     |\n",
            "| 10 | Michoacán                                                                                                     | 62 529  | 5631                     |                       9.01 | 54 921                    |                       87.83 |                         1414.7 | [141]​     |\n",
            "| 11 | Querétaro                                                                                                     | 62 082  | 3985                     |                       6.42 | 52 721                    |                       84.92 |                         2891.6 | [142]​     |\n",
            "| 12 | Tabasco                                                                                                       | 59 752  | 3879                     |                       6.49 | 55 173                    |                       92.34 |                         2653.3 | [143]​     |\n",
            "| 13 | San Luis Potosí                                                                                               | 59 558  | 5036                     |                       8.46 | 49 559                    |                       83.21 |                         2276.7 | [144]​     |\n",
            "| 14 | Chihuahua                                                                                                     | 57 139  | 5536                     |                       9.69 | 48 606                    |                       85.07 |                         1621   | [145]​     |\n",
            "| 15 | Veracruz                                                                                                      | 56 806  | 8584                     |                      15.11 | 46 438                    |                       81.75 |                          682.1 | [146]​     |\n",
            "| 16 | Tamaulipas                                                                                                    | 54 426  | 4589                     |                       8.43 | 45 402                    |                       83.42 |                         1632.5 | [147]​     |\n",
            "| 17 | Baja California                                                                                               | 45 952  | 7687                     |                      16.73 | 36 400                    |                       79.21 |                         1425.3 | [148]​     |\n",
            "| 18 | Oaxaca                                                                                                        | 42 807  | 3101                     |                       7.24 | 39 185                    |                       91.54 |                         1106.7 | [149]​     |\n",
            "| 19 | Guerrero                                                                                                      | 36 885  | 3895                     |                      10.56 | 30 246                    |                       82    |                         1071   | [150]​     |\n",
            "| 20 | Hidalgo                                                                                                       | 35 944  | 5725                     |                      15.93 | 26 758                    |                       74.44 |                         1336.2 | [151]​     |\n",
            "| 21 | Sinaloa                                                                                                       | 35 404  | 5555                     |                      15.69 | 29 356                    |                       82.92 |                         1241.8 | [152]​     |\n",
            "| 22 | Yucatán                                                                                                       | 34 269  | 3667                     |                      10.7  | 29 772                    |                       86.88 |                         1730.8 | [153]​     |\n",
            "| 23 | Durango                                                                                                       | 31 813  | 2618                     |                       8.23 | 26 777                    |                       84.17 |                         1722.4 | [154]​     |\n",
            "| 24 | Morelos                                                                                                       | 29 021  | 2633                     |                       9.07 | 23514                     |                       81.02 |                         1609.2 | [155]​     |\n",
            "| 25 | Zacatecas                                                                                                     | 28 394  | 2782                     |                       9.8  | 24 711                    |                       87.03 |                         1738.8 | [156]​     |\n",
            "| 26 | Baja California Sur                                                                                           | 27 465  | 1343                     |                       4.89 | 25 102                    |                       91.4  |                         3128.1 | [157]​     |\n",
            "| 27 | Aguascalientes                                                                                                | 24 098  | 2327                     |                       9.66 | 20 702                    |                       85.91 |                         1760.3 | [158]​     |\n",
            "| 28 | Quintana Roo                                                                                                  | 20 810  | 2455                     |                      11.8  | 17 273                    |                       83    |                         1541.5 | [159]​     |\n",
            "| 29 | Tlaxcala                                                                                                      | 18 010  | 2242                     |                      12.45 | 11680                     |                       64.85 |                         1518.5 | [160]​     |\n",
            "| 30 | Nayarit                                                                                                       | 11 168  | 1769                     |                      15.84 | 8896                      |                       79.66 |                          837.8 | [161]​     |\n",
            "| 31 | Colima                                                                                                        | 10 687  | 1206                     |                      11.28 | 8243                      |                       77.13 |                         1366.6 | [162]​     |\n",
            "| 32 | Chiapas                                                                                                       | 10 285  | 1468                     |                      14.27 | 8512                      |                       82.76 |                          184.7 | [163]​     |\n",
            "| 33 | Campeche                                                                                                      | 8789    | 1081                     |                      12.3  | 7415                      |                       84.37 |                          902.4 | [164]​     |\n",
            "| 34 |                                                                                                               |         |                          |                            |                           |                             |                                |           |\n",
            "| 35 | Fuentes: Secretaría de Salud (2020).[166]​ Instituto de Investigaciones Geológicas y Atmosféricas (2020).[167]​ |         |                          |                            |                           |                             |                                |           |\n"
          ],
          "name": "stdout"
        }
      ]
    },
    {
      "cell_type": "markdown",
      "metadata": {
        "id": "UjhelB1-DIqc"
      },
      "source": [
        "**HASTA AQUI ES FORECASTING**"
      ]
    },
    {
      "cell_type": "markdown",
      "metadata": {
        "id": "pJouL-3iDqrX"
      },
      "source": [
        "Aqui inicia Classsification"
      ]
    },
    {
      "cell_type": "code",
      "metadata": {
        "id": "ww9XskqItuu5",
        "colab": {
          "base_uri": "https://localhost:8080/"
        },
        "outputId": "fbf6e284-df6d-4fae-e597-1a9f367ef2ff"
      },
      "source": [
        "from pandas import DataFrame\n",
        "HGU = {'x':df_Help_2[\"Cantidad_de_Recuperados\"],'y':df_Help_2[\"Cantidad_de_Fallecidos\"]}\n",
        "HGU_df= DataFrame(HGU,columns=['x','y'])\n",
        "print(HGU_df)"
      ],
      "execution_count": 54,
      "outputs": [
        {
          "output_type": "stream",
          "text": [
            "         x      y\n",
            "0   531532  38132\n",
            "1   210879  11120\n",
            "2   185357  30527\n",
            "3   158519  10092\n",
            "4   111612  10261\n",
            "5    59711  10392\n",
            "6    61824   6223\n",
            "7    59024   5837\n",
            "8    54921   5631\n",
            "9    52721   3985\n",
            "10   55173   3879\n",
            "11   49559   5036\n",
            "12   48606   5536\n",
            "13   46438   8584\n",
            "14   45402   4589\n",
            "15   36400   7687\n",
            "16   39185   3101\n",
            "17   30246   3895\n",
            "18   26758   5725\n",
            "19   29356   5555\n",
            "20   29772   3667\n",
            "21   26777   2618\n",
            "22   23514   2633\n",
            "23   24711   2782\n",
            "24   25102   1343\n",
            "25   20702   2327\n",
            "26   17273   2455\n",
            "27   11680   2242\n",
            "28    8896   1769\n",
            "29    8243   1206\n",
            "30    8512   1468\n",
            "31    7415   1081\n"
          ],
          "name": "stdout"
        }
      ]
    },
    {
      "cell_type": "code",
      "metadata": {
        "id": "IfGqWSY3vFtx",
        "colab": {
          "base_uri": "https://localhost:8080/",
          "height": 282
        },
        "outputId": "981a9a0c-305c-4bb7-a98e-431cfac6ce07"
      },
      "source": [
        "import matplotlib.pyplot as plt\n",
        "plt.scatter(HGU_df['x'],HGU_df['y'])\n",
        "plt.show"
      ],
      "execution_count": 55,
      "outputs": [
        {
          "output_type": "execute_result",
          "data": {
            "text/plain": [
              "<function matplotlib.pyplot.show>"
            ]
          },
          "metadata": {
            "tags": []
          },
          "execution_count": 55
        },
        {
          "output_type": "display_data",
          "data": {
            "image/png": "[encoded data removed]",
            "text/plain": [
              "<Figure size 432x288 with 1 Axes>"
            ]
          },
          "metadata": {
            "tags": [],
            "needs_background": "light"
          }
        }
      ]
    },
    {
      "cell_type": "markdown",
      "metadata": {
        "id": "VvNDqp4MvvWA"
      },
      "source": [
        "Gráfico de dispersion, observamos que los datos no estan tan dispersos, es decir que mantienen una correlacion todos centrados mas en un centro "
      ]
    },
    {
      "cell_type": "code",
      "metadata": {
        "id": "xKdzrzQWxbqj"
      },
      "source": [
        "import sklearn"
      ],
      "execution_count": 56,
      "outputs": []
    },
    {
      "cell_type": "code",
      "metadata": {
        "id": "Qs1idR51v0cl",
        "colab": {
          "base_uri": "https://localhost:8080/"
        },
        "outputId": "c7dbd347-0472-401d-bbca-4733ce50de55"
      },
      "source": [
        "#1-Unicaremos los centroides, dependiendo los centroides que le indiquemos\n",
        "from sklearn.cluster import KMeans\n",
        "KMeans = KMeans(n_clusters=3).fit(HGU_df)\n",
        "centroids = KMeans.cluster_centers_\n",
        "print(centroids)"
      ],
      "execution_count": 57,
      "outputs": [
        {
          "output_type": "stream",
          "text": [
            "[[ 33626.7037037    4120.22222222]\n",
            " [531532.          38132.        ]\n",
            " [166591.75        15500.        ]]\n"
          ],
          "name": "stdout"
        }
      ]
    },
    {
      "cell_type": "code",
      "metadata": {
        "id": "9ejqKYcVyibp",
        "colab": {
          "base_uri": "https://localhost:8080/",
          "height": 265
        },
        "outputId": "e4f433ab-c81d-4c94-b710-612aa4b6d8dc"
      },
      "source": [
        "plt.scatter(HGU_df['x'],HGU_df['y'],c=KMeans.labels_.astype(float),s=50,alpha=0.5)\n",
        "plt.scatter(centroids[:,0],centroids[:,1],c=\"red\",s=50)\n",
        "plt.show()"
      ],
      "execution_count": 58,
      "outputs": [
        {
          "output_type": "display_data",
          "data": {
            "image/png": "[encoded data removed]",
            "text/plain": [
              "<Figure size 432x288 with 1 Axes>"
            ]
          },
          "metadata": {
            "tags": [],
            "needs_background": "light"
          }
        }
      ]
    },
    {
      "cell_type": "markdown",
      "metadata": {
        "id": "rhpdMBx13Tbb"
      },
      "source": [
        "Los datos de casos confirmados recuperados y de fallecidos, que serian el total de casos, se centra mas entre los cienmiles de casos por dia."
      ]
    },
    {
      "cell_type": "markdown",
      "metadata": {
        "id": "_PL91AotCp2k"
      },
      "source": [
        "### Forecasting PRUEBA otros"
      ]
    },
    {
      "cell_type": "markdown",
      "metadata": {
        "id": "JpL4AsL4gXuG"
      },
      "source": [
        "###Relación"
      ]
    },
    {
      "cell_type": "markdown",
      "metadata": {
        "id": "hjb4g_5sgS3F"
      },
      "source": [
        "Definición\n",
        "Existen diversas maneras para medir hasta que punto las diferentes variables son interdependientes. Sí una variable esta relacionada con otra, es decir, por ejemplo,x esta relacionada con y, entonces podemos analizar que tanto están relacionadas.\n",
        "\n",
        "En particular, existen tres maneras de analizar la relación entre variables.\n",
        "\n",
        "Visual\n",
        "Coeficiente de Pearson\n",
        "p-valor\n",
        "Analizar la relación entre variables de manera visual nos da una PISTA de la relación entre ellas, sin embargo, no es prueba contundente de esta.\n",
        "\n",
        "El coeficiente de Pearson es un valor estadístico que nos indica que de que forma están relacionadas las variables. El coeficiente de Pearson tiene el siguiente criterio.\n",
        "\n",
        "Valor del Coeficiente de Pearson\tSignificado\n",
        "Cercano a 1\tTenemos una relación lineal positiva\n",
        "Cercano a 0\tNo existe una relación lineal entre las variables\n",
        "Cercano a -1\tTenemos una relación lineal negativa\n",
        "Por su lado, el p-valor nos dice lo seguros que estamos de la relación calculada.\n",
        "\n",
        "Valor del p-valor\tSignificado\n",
        "0.01<p<0.05\n",
        "Fuerte certeza de relación lineal\n",
        "0.05<p<0.1\n",
        "Moderada certeza de relación lineal\n",
        "p<0.1\tDébil certeza de relación lineal\n",
        "p>0.1\tNo existe relación lineal"
      ]
    },
    {
      "cell_type": "code",
      "metadata": {
        "id": "UfoWYRXXgoN8",
        "colab": {
          "base_uri": "https://localhost:8080/",
          "height": 1000
        },
        "outputId": "f74696b9-2a3b-4cfa-ab89-4fb445361686"
      },
      "source": [
        "HGU = {'Cantidad_Recuperados(x)':df_Help_2[\"Cantidad_de_Recuperados\"],'Cantidad_Fallecidos(y)':df_Help_2[\"Cantidad_de_Fallecidos\"]}\n",
        "HGUD = pd.DataFrame(HGU)\n",
        "HGUD"
      ],
      "execution_count": 59,
      "outputs": [
        {
          "output_type": "execute_result",
          "data": {
            "text/html": [
              "<div>\n",
              "<style scoped>\n",
              "    .dataframe tbody tr th:only-of-type {\n",
              "        vertical-align: middle;\n",
              "    }\n",
              "\n",
              "    .dataframe tbody tr th {\n",
              "        vertical-align: top;\n",
              "    }\n",
              "\n",
              "    .dataframe thead th {\n",
              "        text-align: right;\n",
              "    }\n",
              "</style>\n",
              "<table border=\"1\" class=\"dataframe\">\n",
              "  <thead>\n",
              "    <tr style=\"text-align: right;\">\n",
              "      <th></th>\n",
              "      <th>Cantidad_Recuperados(x)</th>\n",
              "      <th>Cantidad_Fallecidos(y)</th>\n",
              "    </tr>\n",
              "  </thead>\n",
              "  <tbody>\n",
              "    <tr>\n",
              "      <th>0</th>\n",
              "      <td>531532</td>\n",
              "      <td>38132</td>\n",
              "    </tr>\n",
              "    <tr>\n",
              "      <th>1</th>\n",
              "      <td>210879</td>\n",
              "      <td>11120</td>\n",
              "    </tr>\n",
              "    <tr>\n",
              "      <th>2</th>\n",
              "      <td>185357</td>\n",
              "      <td>30527</td>\n",
              "    </tr>\n",
              "    <tr>\n",
              "      <th>3</th>\n",
              "      <td>158519</td>\n",
              "      <td>10092</td>\n",
              "    </tr>\n",
              "    <tr>\n",
              "      <th>4</th>\n",
              "      <td>111612</td>\n",
              "      <td>10261</td>\n",
              "    </tr>\n",
              "    <tr>\n",
              "      <th>5</th>\n",
              "      <td>59711</td>\n",
              "      <td>10392</td>\n",
              "    </tr>\n",
              "    <tr>\n",
              "      <th>6</th>\n",
              "      <td>61824</td>\n",
              "      <td>6223</td>\n",
              "    </tr>\n",
              "    <tr>\n",
              "      <th>7</th>\n",
              "      <td>59024</td>\n",
              "      <td>5837</td>\n",
              "    </tr>\n",
              "    <tr>\n",
              "      <th>8</th>\n",
              "      <td>54921</td>\n",
              "      <td>5631</td>\n",
              "    </tr>\n",
              "    <tr>\n",
              "      <th>9</th>\n",
              "      <td>52721</td>\n",
              "      <td>3985</td>\n",
              "    </tr>\n",
              "    <tr>\n",
              "      <th>10</th>\n",
              "      <td>55173</td>\n",
              "      <td>3879</td>\n",
              "    </tr>\n",
              "    <tr>\n",
              "      <th>11</th>\n",
              "      <td>49559</td>\n",
              "      <td>5036</td>\n",
              "    </tr>\n",
              "    <tr>\n",
              "      <th>12</th>\n",
              "      <td>48606</td>\n",
              "      <td>5536</td>\n",
              "    </tr>\n",
              "    <tr>\n",
              "      <th>13</th>\n",
              "      <td>46438</td>\n",
              "      <td>8584</td>\n",
              "    </tr>\n",
              "    <tr>\n",
              "      <th>14</th>\n",
              "      <td>45402</td>\n",
              "      <td>4589</td>\n",
              "    </tr>\n",
              "    <tr>\n",
              "      <th>15</th>\n",
              "      <td>36400</td>\n",
              "      <td>7687</td>\n",
              "    </tr>\n",
              "    <tr>\n",
              "      <th>16</th>\n",
              "      <td>39185</td>\n",
              "      <td>3101</td>\n",
              "    </tr>\n",
              "    <tr>\n",
              "      <th>17</th>\n",
              "      <td>30246</td>\n",
              "      <td>3895</td>\n",
              "    </tr>\n",
              "    <tr>\n",
              "      <th>18</th>\n",
              "      <td>26758</td>\n",
              "      <td>5725</td>\n",
              "    </tr>\n",
              "    <tr>\n",
              "      <th>19</th>\n",
              "      <td>29356</td>\n",
              "      <td>5555</td>\n",
              "    </tr>\n",
              "    <tr>\n",
              "      <th>20</th>\n",
              "      <td>29772</td>\n",
              "      <td>3667</td>\n",
              "    </tr>\n",
              "    <tr>\n",
              "      <th>21</th>\n",
              "      <td>26777</td>\n",
              "      <td>2618</td>\n",
              "    </tr>\n",
              "    <tr>\n",
              "      <th>22</th>\n",
              "      <td>23514</td>\n",
              "      <td>2633</td>\n",
              "    </tr>\n",
              "    <tr>\n",
              "      <th>23</th>\n",
              "      <td>24711</td>\n",
              "      <td>2782</td>\n",
              "    </tr>\n",
              "    <tr>\n",
              "      <th>24</th>\n",
              "      <td>25102</td>\n",
              "      <td>1343</td>\n",
              "    </tr>\n",
              "    <tr>\n",
              "      <th>25</th>\n",
              "      <td>20702</td>\n",
              "      <td>2327</td>\n",
              "    </tr>\n",
              "    <tr>\n",
              "      <th>26</th>\n",
              "      <td>17273</td>\n",
              "      <td>2455</td>\n",
              "    </tr>\n",
              "    <tr>\n",
              "      <th>27</th>\n",
              "      <td>11680</td>\n",
              "      <td>2242</td>\n",
              "    </tr>\n",
              "    <tr>\n",
              "      <th>28</th>\n",
              "      <td>8896</td>\n",
              "      <td>1769</td>\n",
              "    </tr>\n",
              "    <tr>\n",
              "      <th>29</th>\n",
              "      <td>8243</td>\n",
              "      <td>1206</td>\n",
              "    </tr>\n",
              "    <tr>\n",
              "      <th>30</th>\n",
              "      <td>8512</td>\n",
              "      <td>1468</td>\n",
              "    </tr>\n",
              "    <tr>\n",
              "      <th>31</th>\n",
              "      <td>7415</td>\n",
              "      <td>1081</td>\n",
              "    </tr>\n",
              "  </tbody>\n",
              "</table>\n",
              "</div>"
            ],
            "text/plain": [
              "    Cantidad_Recuperados(x)  Cantidad_Fallecidos(y)\n",
              "0                    531532                   38132\n",
              "1                    210879                   11120\n",
              "2                    185357                   30527\n",
              "3                    158519                   10092\n",
              "4                    111612                   10261\n",
              "5                     59711                   10392\n",
              "6                     61824                    6223\n",
              "7                     59024                    5837\n",
              "8                     54921                    5631\n",
              "9                     52721                    3985\n",
              "10                    55173                    3879\n",
              "11                    49559                    5036\n",
              "12                    48606                    5536\n",
              "13                    46438                    8584\n",
              "14                    45402                    4589\n",
              "15                    36400                    7687\n",
              "16                    39185                    3101\n",
              "17                    30246                    3895\n",
              "18                    26758                    5725\n",
              "19                    29356                    5555\n",
              "20                    29772                    3667\n",
              "21                    26777                    2618\n",
              "22                    23514                    2633\n",
              "23                    24711                    2782\n",
              "24                    25102                    1343\n",
              "25                    20702                    2327\n",
              "26                    17273                    2455\n",
              "27                    11680                    2242\n",
              "28                     8896                    1769\n",
              "29                     8243                    1206\n",
              "30                     8512                    1468\n",
              "31                     7415                    1081"
            ]
          },
          "metadata": {
            "tags": []
          },
          "execution_count": 59
        }
      ]
    },
    {
      "cell_type": "code",
      "metadata": {
        "id": "1fGa-FB5hZss",
        "colab": {
          "base_uri": "https://localhost:8080/"
        },
        "outputId": "447f5b1a-9fb3-4673-b8e2-835541447d29"
      },
      "source": [
        "from sklearn.linear_model import LinearRegression\n",
        "\n",
        "Linea_Regresion = LinearRegression()\n",
        "\n",
        "Linea_Regresion.fit(HGUD[['Cantidad_Recuperados(x)']],HGUD[['Cantidad_Fallecidos(y)']])\n",
        "\n",
        "print('La pendiente es : ',Linea_Regresion.coef_,'\\nLa interseccion es : ',Linea_Regresion.intercept_)"
      ],
      "execution_count": 60,
      "outputs": [
        {
          "output_type": "stream",
          "text": [
            "La pendiente es :  [[0.07243349]] \n",
            "La interseccion es :  [1838.94114393]\n"
          ],
          "name": "stdout"
        }
      ]
    },
    {
      "cell_type": "markdown",
      "metadata": {
        "id": "idKDdH-1izQL"
      },
      "source": [
        "$$\\hat{y} = 1.28679867e-07\\cdot x -4845.33664031$$"
      ]
    },
    {
      "cell_type": "code",
      "metadata": {
        "id": "5hsl5AmyjQU3",
        "colab": {
          "base_uri": "https://localhost:8080/",
          "height": 297
        },
        "outputId": "be466c60-eb16-47df-eb51-63692ea738b5"
      },
      "source": [
        "#ANALIZAMOS DE MANERA VISUAL\n",
        "\n",
        "import seaborn as sns\n",
        "\n",
        "sns.regplot( x = 'Cantidad_Recuperados(x)', y = 'Cantidad_Fallecidos(y)', data = HGUD,ci = 95)\n",
        "plt.ylim(0,)"
      ],
      "execution_count": 61,
      "outputs": [
        {
          "output_type": "execute_result",
          "data": {
            "text/plain": [
              "(0.0, 76386.29590895714)"
            ]
          },
          "metadata": {
            "tags": []
          },
          "execution_count": 61
        },
        {
          "output_type": "display_data",
          "data": {
            "image/png": "[encoded data removed]",
            "text/plain": [
              "<Figure size 432x288 with 1 Axes>"
            ]
          },
          "metadata": {
            "tags": [],
            "needs_background": "light"
          }
        }
      ]
    },
    {
      "cell_type": "markdown",
      "metadata": {
        "id": "xd64C2IGj0fA"
      },
      "source": [
        "#### Coeficiente de Pearson y $p$-valor\n",
        "\n",
        "Para observar el coeficiente de Pearson y el $p$-valor utilizamos la función stats de la librería scipy y dentro de ella pearsonr."
      ]
    },
    {
      "cell_type": "code",
      "metadata": {
        "id": "jwmykuDMj6Xl"
      },
      "source": [
        "#1.Importamos la funcion \n",
        "from scipy import stats\n",
        "\n",
        "#2.Mandamos a llamar la funcion pearsonr\n",
        "Pearson = stats.pearsonr(HGUD.loc[:,'Cantidad_Recuperados(x)'], HGUD.loc[:,'Cantidad_Fallecidos(y)'])"
      ],
      "execution_count": 62,
      "outputs": []
    },
    {
      "cell_type": "code",
      "metadata": {
        "id": "9TbDM4QpkUsJ",
        "colab": {
          "base_uri": "https://localhost:8080/"
        },
        "outputId": "461ba53f-6f44-44da-d583-bc2ccc770593"
      },
      "source": [
        "#3.IMPRIMIMOS EL COEFICIENTE DE PEARSON Y EL P-VALOR\n",
        "print('El coeficiente de Pearson es ',Pearson[0],'\\nEl P-Valor es ',Pearson[1])"
      ],
      "execution_count": 63,
      "outputs": [
        {
          "output_type": "stream",
          "text": [
            "El coeficiente de Pearson es  0.9031262897264036 \n",
            "El P-Valor es  1.5349591277583208e-12\n"
          ],
          "name": "stdout"
        }
      ]
    },
    {
      "cell_type": "code",
      "metadata": {
        "id": "iKsDj5PvkUp0",
        "colab": {
          "base_uri": "https://localhost:8080/"
        },
        "outputId": "eb78100e-ce30-43a4-8887-005e9d4045f7"
      },
      "source": [
        "#VERIFICAMOS lo QUE NOS DICE EL P-VALOR\n",
        "if 0.01 < Pearson[1] and Pearson[1] < 0.05 :\n",
        "  print('Fuerte certeza de relacion lineal')\n",
        "elif 0.05 < Pearson[1] and Pearson[1] < 0.1 :\n",
        "  print('Moderada certeza de relacion lineal')\n",
        "elif Pearson[1] < 0.1:\n",
        "  print('Debil certeza de relacion lineal')\n",
        "elif Pearson[1] > 0.1:\n",
        "  print('No existe certeza de relacion lineal')"
      ],
      "execution_count": 64,
      "outputs": [
        {
          "output_type": "stream",
          "text": [
            "Debil certeza de relacion lineal\n"
          ],
          "name": "stdout"
        }
      ]
    },
    {
      "cell_type": "markdown",
      "metadata": {
        "id": "fIruDG-Nk4ct"
      },
      "source": [
        "#### $R^2$ Coeficiente de determinación\n",
        "\n",
        "El coeficiente de determinación nos dice lo cerca que están los datos de la línea de regresión ajustada.\n",
        "\n",
        "|Valor $R^2$|Significado|\n",
        "|--|--|\n",
        "|Valor cercano a 1|La línea de regresión es un buen ajuste a los datos|\n",
        "|Valor cercano a 0|La línea de regresión no es un buen ajuste a los datos|\n",
        "\n",
        "Sí el valor de $R^2$ es negativo puede deberse a un sobre ajuste de los datos.\n",
        "\n",
        "Este coeficiente es aplicable a una regresión lineal, múltiple y polinómica, entre otras."
      ]
    },
    {
      "cell_type": "code",
      "metadata": {
        "id": "4rzV8l6ikUmv",
        "colab": {
          "base_uri": "https://localhost:8080/"
        },
        "outputId": "e78ceae7-c9fd-4810-c7dd-91ca3fa25906"
      },
      "source": [
        "HGUD\n",
        "#1: IMPORTAMOS\n",
        "\n",
        "from sklearn.linear_model import LinearRegression\n",
        "\n",
        "LM = LinearRegression()\n",
        "\n",
        "#2: AJUSTAMOS\n",
        "\n",
        "LM.fit(HGUD[['Cantidad_Recuperados(x)']], HGUD[['Cantidad_Fallecidos(y)']])\n",
        "\n",
        "#3: CALCULAMOS EL COEFICIENTE DE DETERMINACION\n",
        "\n",
        "print('El coeficiente de determinacion es ',LM.score(HGUD[['Cantidad_Recuperados(x)']], HGUD[['Cantidad_Fallecidos(y)']]))"
      ],
      "execution_count": 65,
      "outputs": [
        {
          "output_type": "stream",
          "text": [
            "El coeficiente de determinacion es  0.8156370951949801\n"
          ],
          "name": "stdout"
        }
      ]
    },
    {
      "cell_type": "markdown",
      "metadata": {
        "id": "mlg2GDUql2jh"
      },
      "source": [
        "El coeficiente de determinación es la proporción de la varianza total de la variable explicada por la regresión. Es también denominado R cuadrado y sirve para reflejar la bondad del ajuste de un modelo a la variable que se pretende explicar.\n",
        "\n",
        "El coeficiente de determinación puede adquirir resultados que oscilan entre 0 y 1. Así, cuando adquiere resultados más cercanos a 1, mayor resultará el ajuste del modelo a la variable que se pretende aplicar para el caso en concreto. Por el contrario, cuando adquiere resultados que se acercan al valor 0, menor será el ajuste del modelo a la variable que se pretende aplicar y, justo por eso, resultará dicho modelo menos fiable."
      ]
    },
    {
      "cell_type": "markdown",
      "metadata": {
        "id": "SwgANf9PmEYK"
      },
      "source": [
        "**Entonces aqui el Coeficiente de determinacion se acerca mas al 1, por lo que mayor resultará el ajuste del modelo a la variable de los casos confirmados de COVID-19**"
      ]
    },
    {
      "cell_type": "markdown",
      "metadata": {
        "id": "SPF83zimBRnF"
      },
      "source": [
        ""
      ]
    },
    {
      "cell_type": "markdown",
      "metadata": {
        "id": "uXl05TvcBUBE"
      },
      "source": [
        "###Data classification"
      ]
    },
    {
      "cell_type": "markdown",
      "metadata": {
        "id": "CzTvHiFuBUBM"
      },
      "source": [
        "lINK DE EJEMPLO DE DATA CLASSIFICATION PARA VERLO"
      ]
    },
    {
      "cell_type": "markdown",
      "metadata": {
        "id": "npLN25-2BUBO"
      },
      "source": [
        "https://www.youtube.com/watch?v=mmB9RroFv8c"
      ]
    },
    {
      "cell_type": "code",
      "metadata": {
        "colab": {
          "base_uri": "https://localhost:8080/"
        },
        "id": "GLAkdMW3BUBQ",
        "outputId": "6a525414-fdd4-4c21-db56-709ad2471af5"
      },
      "source": [
        "from pandas import DataFrame\n",
        "HGU = {'x':df_Help_2[\"Cantidad_de_Recuperados\"],'y':df_Help_2[\"Cantidad_de_Fallecidos\"]}\n",
        "HGU_df= DataFrame(HGU,columns=['x','y'])\n",
        "print(HGU_df)"
      ],
      "execution_count": 66,
      "outputs": [
        {
          "output_type": "stream",
          "text": [
            "         x      y\n",
            "0   531532  38132\n",
            "1   210879  11120\n",
            "2   185357  30527\n",
            "3   158519  10092\n",
            "4   111612  10261\n",
            "5    59711  10392\n",
            "6    61824   6223\n",
            "7    59024   5837\n",
            "8    54921   5631\n",
            "9    52721   3985\n",
            "10   55173   3879\n",
            "11   49559   5036\n",
            "12   48606   5536\n",
            "13   46438   8584\n",
            "14   45402   4589\n",
            "15   36400   7687\n",
            "16   39185   3101\n",
            "17   30246   3895\n",
            "18   26758   5725\n",
            "19   29356   5555\n",
            "20   29772   3667\n",
            "21   26777   2618\n",
            "22   23514   2633\n",
            "23   24711   2782\n",
            "24   25102   1343\n",
            "25   20702   2327\n",
            "26   17273   2455\n",
            "27   11680   2242\n",
            "28    8896   1769\n",
            "29    8243   1206\n",
            "30    8512   1468\n",
            "31    7415   1081\n"
          ],
          "name": "stdout"
        }
      ]
    },
    {
      "cell_type": "code",
      "metadata": {
        "colab": {
          "base_uri": "https://localhost:8080/",
          "height": 282
        },
        "id": "WPFtr0AJBUBT",
        "outputId": "b255b976-bdff-445e-a9a0-27abf3da683a"
      },
      "source": [
        "import matplotlib.pyplot as plt\n",
        "plt.scatter(HGU_df['x'],HGU_df['y'])\n",
        "plt.show"
      ],
      "execution_count": 67,
      "outputs": [
        {
          "output_type": "execute_result",
          "data": {
            "text/plain": [
              "<function matplotlib.pyplot.show>"
            ]
          },
          "metadata": {
            "tags": []
          },
          "execution_count": 67
        },
        {
          "output_type": "display_data",
          "data": {
            "image/png": "[encoded data removed]",
            "text/plain": [
              "<Figure size 432x288 with 1 Axes>"
            ]
          },
          "metadata": {
            "tags": [],
            "needs_background": "light"
          }
        }
      ]
    },
    {
      "cell_type": "markdown",
      "metadata": {
        "id": "zxQLeQGYBUBV"
      },
      "source": [
        "Gráfico de dispersion, observamos que los datos no estan tan dispersos, es decir que mantienen una correlacion todos centrados mas en un centro "
      ]
    },
    {
      "cell_type": "code",
      "metadata": {
        "id": "uR81mzxZBUBW"
      },
      "source": [
        "import sklearn"
      ],
      "execution_count": 68,
      "outputs": []
    },
    {
      "cell_type": "code",
      "metadata": {
        "colab": {
          "base_uri": "https://localhost:8080/"
        },
        "id": "oYRDF2DsBUBY",
        "outputId": "a2014aff-fc4c-4e3b-bd9e-6919966ae80e"
      },
      "source": [
        "#1-Unicaremos los centroides, dependiendo los centroides que le indiquemos\n",
        "from sklearn.cluster import KMeans\n",
        "KMeans = KMeans(n_clusters=3).fit(HGU_df)\n",
        "centroids = KMeans.cluster_centers_\n",
        "print(centroids)"
      ],
      "execution_count": 69,
      "outputs": [
        {
          "output_type": "stream",
          "text": [
            "[[166591.75        15500.        ]\n",
            " [ 33626.7037037    4120.22222222]\n",
            " [531532.          38132.        ]]\n"
          ],
          "name": "stdout"
        }
      ]
    },
    {
      "cell_type": "code",
      "metadata": {
        "colab": {
          "base_uri": "https://localhost:8080/",
          "height": 265
        },
        "id": "PTdEP_INBUBZ",
        "outputId": "330e216b-b6e5-4a16-a4f8-6366833de2eb"
      },
      "source": [
        "plt.scatter(HGU_df['x'],HGU_df['y'],c=KMeans.labels_.astype(float),s=50,alpha=0.5)\n",
        "plt.scatter(centroids[:,0],centroids[:,1],c=\"red\",s=50)\n",
        "plt.show()"
      ],
      "execution_count": 70,
      "outputs": [
        {
          "output_type": "display_data",
          "data": {
            "image/png": "[encoded data removed]",
            "text/plain": [
              "<Figure size 432x288 with 1 Axes>"
            ]
          },
          "metadata": {
            "tags": [],
            "needs_background": "light"
          }
        }
      ]
    },
    {
      "cell_type": "markdown",
      "metadata": {
        "id": "ywyJyYUrBUBZ"
      },
      "source": [
        "Los datos de casos confirmados recuperados y de fallecidos, que serian el total de casos, se centra mas entre los cienmiles de casos por dia."
      ]
    },
    {
      "cell_type": "markdown",
      "metadata": {
        "id": "laUkAxoj5XG5"
      },
      "source": [
        "###Data clustering"
      ]
    },
    {
      "cell_type": "markdown",
      "metadata": {
        "id": "F6SqD_Y-6TPu"
      },
      "source": [
        "Es util por que se tienen menos de 10000 individuos*"
      ]
    },
    {
      "cell_type": "markdown",
      "metadata": {
        "id": "65AUT9VpTHtS"
      },
      "source": [
        ""
      ]
    },
    {
      "cell_type": "code",
      "metadata": {
        "id": "mv7HKwJn7G2C"
      },
      "source": [
        "from sklearn.cluster import KMeans\n",
        "from sklearn.datasets import make_blobs\n",
        "import numpy as np\n",
        "import matplotlib.pyplot as plt"
      ],
      "execution_count": null,
      "outputs": []
    },
    {
      "cell_type": "markdown",
      "metadata": {
        "id": "p-joLSA0CNo2"
      },
      "source": [
        "NORMALIZAMOS los datos:para que el agrupamiento no se valla parcializado a una sola variable."
      ]
    },
    {
      "cell_type": "code",
      "metadata": {
        "id": "3uNoiDQtSQ4i"
      },
      "source": [
        "from sklearn.preprocessing import normalize\n",
        "data_HGU=normalize(HGU_df)"
      ],
      "execution_count": null,
      "outputs": []
    },
    {
      "cell_type": "markdown",
      "metadata": {
        "id": "Lf8HP_7tV2ln"
      },
      "source": [
        "Aqui normalizamos los datos"
      ]
    },
    {
      "cell_type": "code",
      "metadata": {
        "id": "mHeA81k7Y-QZ"
      },
      "source": [
        "data_HGU= DataFrame(data_HGU,columns=['x','y'])\n",
        "print(HGU_df)"
      ],
      "execution_count": null,
      "outputs": []
    },
    {
      "cell_type": "markdown",
      "metadata": {
        "id": "qCcEttF6Z3WV"
      },
      "source": [
        "link para guiarme en base a este ejemplo \n",
        "https://www.youtube.com/watch?v=kIanGE8a98s"
      ]
    },
    {
      "cell_type": "markdown",
      "metadata": {
        "id": "-n89sCwnZ3Sr"
      },
      "source": [
        ""
      ]
    },
    {
      "cell_type": "code",
      "metadata": {
        "id": "EAc4g7IfU-WR"
      },
      "source": [
        "data_HGU=pd.DataFrame(data_HGU,columns=data_HGU.columns)\n",
        "data_HGU.head()"
      ],
      "execution_count": null,
      "outputs": []
    }
  ]
}