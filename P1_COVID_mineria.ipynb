{
  "nbformat": 4,
  "nbformat_minor": 0,
  "metadata": {
    "colab": {
      "name": "P1_COVID_mineria",
      "provenance": [],
      "collapsed_sections": [],
      "authorship_tag": "ABX9TyNQ6ILkEHL2t8C1GlBF2RZ5",
      "include_colab_link": true
    },
    "kernelspec": {
      "name": "python3",
      "display_name": "Python 3"
    },
    "language_info": {
      "name": "python"
    }
  },
  "cells": [
    {
      "cell_type": "markdown",
      "metadata": {
        "id": "view-in-github",
        "colab_type": "text"
      },
      "source": [
        "<a href=\"https://colab.research.google.com/github/Amaranta7/Practica1_COVID_mineria/blob/main/P1_COVID_mineria.ipynb\" target=\"_parent\"><img src=\"https://colab.research.google.com/assets/colab-badge.svg\" alt=\"Open In Colab\"/></a>"
      ]
    },
    {
      "cell_type": "markdown",
      "metadata": {
        "id": "zWElZOON-QW4"
      },
      "source": [
        "Importacion de Datos "
      ]
    },
    {
      "cell_type": "code",
      "metadata": {
        "colab": {
          "base_uri": "https://localhost:8080/",
          "height": 255
        },
        "id": "a3mm5QOv9Afe",
        "outputId": "d918f17f-dadb-4614-8bc7-474a02fcb5a6"
      },
      "source": [
        "import requests\n",
        "import io\n",
        "from bs4 import BeautifulSoup\n",
        "import pandas as pd\n",
        "from tabulate import tabulate\n",
        "from typing import Tuple, List\n",
        "\n",
        "\n",
        "def get_soup(url: str) -> BeautifulSoup:\n",
        "    response = requests.get(url)\n",
        "    return BeautifulSoup(response.content, 'html.parser')\n",
        "\n",
        "def print_tabulate(df: pd.DataFrame):\n",
        "    print(tabulate(df, headers=df.columns, tablefmt='orgtbl'))\n",
        "\n",
        "def get_csv_from_url(url: str) -> pd.DataFrame:\n",
        "    s = requests.get(url).content\n",
        "    return pd.read_csv(io.StringIO(s.decode('utf-8')))\n",
        "\n",
        "def Covid() -> pd.DataFrame:\n",
        "    soup = get_soup(\"https://es.wikipedia.org/wiki/Pandemia_de_COVID-19_en_México\")\n",
        "    list_of_lists = []\n",
        "    rows = soup.find_all(\"table\")[7].find_all('tr')\n",
        "    for row in rows[1:]:\n",
        "        columns = row.find_all('td')\n",
        "        listado_de_valores_en_columnas = [column.text.strip() for column in columns]\n",
        "        list_of_lists.append(listado_de_valores_en_columnas)\n",
        "    return pd.DataFrame(list_of_lists, columns=[\"Estados\",\"Casos\",\"Cantidad de Fallecidos\",\"porcentaje de Fallecidos\",\"Cantidad de Recuperados\",\"porcentaje de Recuperados\",\"Casos por 100,000 habitantes\",\"Reporte\"])\n",
        "\n",
        "df = Covid()\n",
        "\n",
        "df.head()"
      ],
      "execution_count": null,
      "outputs": [
        {
          "output_type": "execute_result",
          "data": {
            "text/html": [
              "<div>\n",
              "<style scoped>\n",
              "    .dataframe tbody tr th:only-of-type {\n",
              "        vertical-align: middle;\n",
              "    }\n",
              "\n",
              "    .dataframe tbody tr th {\n",
              "        vertical-align: top;\n",
              "    }\n",
              "\n",
              "    .dataframe thead th {\n",
              "        text-align: right;\n",
              "    }\n",
              "</style>\n",
              "<table border=\"1\" class=\"dataframe\">\n",
              "  <thead>\n",
              "    <tr style=\"text-align: right;\">\n",
              "      <th></th>\n",
              "      <th>Estados</th>\n",
              "      <th>Casos</th>\n",
              "      <th>Cantidad de Fallecidos</th>\n",
              "      <th>porcentaje de Fallecidos</th>\n",
              "      <th>Cantidad de Recuperados</th>\n",
              "      <th>porcentaje de Recuperados</th>\n",
              "      <th>Casos por 100,000 habitantes</th>\n",
              "      <th>Reporte</th>\n",
              "    </tr>\n",
              "  </thead>\n",
              "  <tbody>\n",
              "    <tr>\n",
              "      <th>0</th>\n",
              "      <td>None</td>\n",
              "      <td>None</td>\n",
              "      <td>None</td>\n",
              "      <td>None</td>\n",
              "      <td>None</td>\n",
              "      <td>None</td>\n",
              "      <td>None</td>\n",
              "      <td>None</td>\n",
              "    </tr>\n",
              "    <tr>\n",
              "      <th>1</th>\n",
              "      <td>None</td>\n",
              "      <td>None</td>\n",
              "      <td>None</td>\n",
              "      <td>None</td>\n",
              "      <td>None</td>\n",
              "      <td>None</td>\n",
              "      <td>None</td>\n",
              "      <td>None</td>\n",
              "    </tr>\n",
              "    <tr>\n",
              "      <th>2</th>\n",
              "      <td>Ciudad de México</td>\n",
              "      <td>592 456</td>\n",
              "      <td>38 132</td>\n",
              "      <td>6.44</td>\n",
              "      <td>531 532</td>\n",
              "      <td>89.72</td>\n",
              "      <td>6643.4</td>\n",
              "      <td>[126]​</td>\n",
              "    </tr>\n",
              "    <tr>\n",
              "      <th>3</th>\n",
              "      <td>Jalisco</td>\n",
              "      <td>229 072</td>\n",
              "      <td>11 120</td>\n",
              "      <td>4.85</td>\n",
              "      <td>210 879</td>\n",
              "      <td>92.06</td>\n",
              "      <td>2739.1</td>\n",
              "      <td>[127]​</td>\n",
              "    </tr>\n",
              "    <tr>\n",
              "      <th>4</th>\n",
              "      <td>Estado de México</td>\n",
              "      <td>228 018</td>\n",
              "      <td>30 527</td>\n",
              "      <td>13.39</td>\n",
              "      <td>185 357</td>\n",
              "      <td>81.29</td>\n",
              "      <td>1261.9</td>\n",
              "      <td>[128]​</td>\n",
              "    </tr>\n",
              "  </tbody>\n",
              "</table>\n",
              "</div>"
            ],
            "text/plain": [
              "            Estados    Casos  ... Casos por 100,000 habitantes Reporte\n",
              "0              None     None  ...                         None    None\n",
              "1              None     None  ...                         None    None\n",
              "2  Ciudad de México  592 456  ...                       6643.4  [126]​\n",
              "3           Jalisco  229 072  ...                       2739.1  [127]​\n",
              "4  Estado de México  228 018  ...                       1261.9  [128]​\n",
              "\n",
              "[5 rows x 8 columns]"
            ]
          },
          "metadata": {
            "tags": []
          },
          "execution_count": 97
        }
      ]
    },
    {
      "cell_type": "code",
      "metadata": {
        "id": "8aME1w35-jlX"
      },
      "source": [
        "df.to_csv(\"Estimadores_Covid.csv\", index=False)"
      ],
      "execution_count": null,
      "outputs": []
    },
    {
      "cell_type": "markdown",
      "metadata": {
        "id": "6PhKkSwy-oMP"
      },
      "source": [
        "Análisis de Datos"
      ]
    },
    {
      "cell_type": "markdown",
      "metadata": {
        "id": "b0lwuONE-6st"
      },
      "source": [
        "Import librerias que usaremos para graficas, analysis y tablas "
      ]
    },
    {
      "cell_type": "code",
      "metadata": {
        "id": "1PvAO2h4-1Z1"
      },
      "source": [
        "import matplotlib.pyplot as plt\n",
        "import statsmodels.api as sm\n",
        "from statsmodels.formula.api import ols"
      ],
      "execution_count": null,
      "outputs": []
    },
    {
      "cell_type": "code",
      "metadata": {
        "id": "2hAsLhfQ_Otn"
      },
      "source": [
        "df_Modif = pd.read_csv(\"Estimadores_Covid.csv\")\n",
        "#Eliminamos las columnas mencionadas despues de .drop que sera el data fram de df_Modif\n",
        "df_Modif = df_Modif.drop(['porcentaje de Fallecidos', 'porcentaje de Recuperados','Casos por 100,000 habitantes','Reporte'], axis=1)"
      ],
      "execution_count": null,
      "outputs": []
    },
    {
      "cell_type": "code",
      "metadata": {
        "colab": {
          "base_uri": "https://localhost:8080/",
          "height": 204
        },
        "id": "TsY1pYHI_WZ-",
        "outputId": "2b975ae6-775a-4d31-d54e-d3ce51fd273b"
      },
      "source": [
        "df_Modif.head(5)"
      ],
      "execution_count": null,
      "outputs": [
        {
          "output_type": "execute_result",
          "data": {
            "text/html": [
              "<div>\n",
              "<style scoped>\n",
              "    .dataframe tbody tr th:only-of-type {\n",
              "        vertical-align: middle;\n",
              "    }\n",
              "\n",
              "    .dataframe tbody tr th {\n",
              "        vertical-align: top;\n",
              "    }\n",
              "\n",
              "    .dataframe thead th {\n",
              "        text-align: right;\n",
              "    }\n",
              "</style>\n",
              "<table border=\"1\" class=\"dataframe\">\n",
              "  <thead>\n",
              "    <tr style=\"text-align: right;\">\n",
              "      <th></th>\n",
              "      <th>Estados</th>\n",
              "      <th>Casos</th>\n",
              "      <th>Cantidad de Fallecidos</th>\n",
              "      <th>Cantidad de Recuperados</th>\n",
              "    </tr>\n",
              "  </thead>\n",
              "  <tbody>\n",
              "    <tr>\n",
              "      <th>0</th>\n",
              "      <td>NaN</td>\n",
              "      <td>NaN</td>\n",
              "      <td>NaN</td>\n",
              "      <td>NaN</td>\n",
              "    </tr>\n",
              "    <tr>\n",
              "      <th>1</th>\n",
              "      <td>NaN</td>\n",
              "      <td>NaN</td>\n",
              "      <td>NaN</td>\n",
              "      <td>NaN</td>\n",
              "    </tr>\n",
              "    <tr>\n",
              "      <th>2</th>\n",
              "      <td>Ciudad de México</td>\n",
              "      <td>592 456</td>\n",
              "      <td>38 132</td>\n",
              "      <td>531 532</td>\n",
              "    </tr>\n",
              "    <tr>\n",
              "      <th>3</th>\n",
              "      <td>Jalisco</td>\n",
              "      <td>229 072</td>\n",
              "      <td>11 120</td>\n",
              "      <td>210 879</td>\n",
              "    </tr>\n",
              "    <tr>\n",
              "      <th>4</th>\n",
              "      <td>Estado de México</td>\n",
              "      <td>228 018</td>\n",
              "      <td>30 527</td>\n",
              "      <td>185 357</td>\n",
              "    </tr>\n",
              "  </tbody>\n",
              "</table>\n",
              "</div>"
            ],
            "text/plain": [
              "            Estados    Casos Cantidad de Fallecidos Cantidad de Recuperados\n",
              "0               NaN      NaN                    NaN                     NaN\n",
              "1               NaN      NaN                    NaN                     NaN\n",
              "2  Ciudad de México  592 456                 38 132                 531 532\n",
              "3           Jalisco  229 072                 11 120                 210 879\n",
              "4  Estado de México  228 018                 30 527                 185 357"
            ]
          },
          "metadata": {
            "tags": []
          },
          "execution_count": 49
        }
      ]
    },
    {
      "cell_type": "code",
      "metadata": {
        "colab": {
          "base_uri": "https://localhost:8080/",
          "height": 235
        },
        "id": "5mHsWj19A0XA",
        "outputId": "9f4b0981-5a6d-48a8-ba0e-e8a25bfc0108"
      },
      "source": [
        "#Aqui agrupamos las columnas de cantidad de fallecidoa y la de cantidad de recuperados y la ponemos con la columna de casos\n",
        "df_by_casos = df_Modif.groupby([\"Cantidad de Fallecidos\", \"Cantidad de Recuperados\"])[[\"Casos\"]].aggregate(pd.DataFrame.sum)\n",
        "df_by_casos.head(5)"
      ],
      "execution_count": null,
      "outputs": [
        {
          "output_type": "execute_result",
          "data": {
            "text/html": [
              "<div>\n",
              "<style scoped>\n",
              "    .dataframe tbody tr th:only-of-type {\n",
              "        vertical-align: middle;\n",
              "    }\n",
              "\n",
              "    .dataframe tbody tr th {\n",
              "        vertical-align: top;\n",
              "    }\n",
              "\n",
              "    .dataframe thead th {\n",
              "        text-align: right;\n",
              "    }\n",
              "</style>\n",
              "<table border=\"1\" class=\"dataframe\">\n",
              "  <thead>\n",
              "    <tr style=\"text-align: right;\">\n",
              "      <th></th>\n",
              "      <th></th>\n",
              "      <th>Casos</th>\n",
              "    </tr>\n",
              "    <tr>\n",
              "      <th>Cantidad de Fallecidos</th>\n",
              "      <th>Cantidad de Recuperados</th>\n",
              "      <th></th>\n",
              "    </tr>\n",
              "  </thead>\n",
              "  <tbody>\n",
              "    <tr>\n",
              "      <th>1081</th>\n",
              "      <th>7415</th>\n",
              "      <td>8789</td>\n",
              "    </tr>\n",
              "    <tr>\n",
              "      <th>10 092</th>\n",
              "      <th>158 519</th>\n",
              "      <td>170 304</td>\n",
              "    </tr>\n",
              "    <tr>\n",
              "      <th>10 261</th>\n",
              "      <th>111 612</th>\n",
              "      <td>126 043</td>\n",
              "    </tr>\n",
              "    <tr>\n",
              "      <th>10 392</th>\n",
              "      <th>59 711</th>\n",
              "      <td>76 649</td>\n",
              "    </tr>\n",
              "    <tr>\n",
              "      <th>11 120</th>\n",
              "      <th>210 879</th>\n",
              "      <td>229 072</td>\n",
              "    </tr>\n",
              "  </tbody>\n",
              "</table>\n",
              "</div>"
            ],
            "text/plain": [
              "                                                  Casos\n",
              "Cantidad de Fallecidos Cantidad de Recuperados         \n",
              "1081                   7415                        8789\n",
              "10 092                 158 519                  170 304\n",
              "10 261                 111 612                  126 043\n",
              "10 392                 59 711                    76 649\n",
              "11 120                 210 879                  229 072"
            ]
          },
          "metadata": {
            "tags": []
          },
          "execution_count": 50
        }
      ]
    },
    {
      "cell_type": "markdown",
      "metadata": {
        "id": "YAOqyMwlBdDH"
      },
      "source": [
        "Aqui le asinamos ceros a los valores que tienen \"null\", es decir que son nulos "
      ]
    },
    {
      "cell_type": "code",
      "metadata": {
        "colab": {
          "base_uri": "https://localhost:8080/",
          "height": 204
        },
        "id": "6Dt-NjphBWNX",
        "outputId": "a7660fe0-21ce-466e-a019-2d79dbe934f0"
      },
      "source": [
        "\n",
        "#Aqui le asinamos ceros a los valores que tienen \"null\", con .fillna(0), es decir que son nulos \n",
        "df_Help = df_Modif[[\"Cantidad de Recuperados\",\"Cantidad de Fallecidos\",\"Casos\"]].fillna(0)\n",
        "df_Help.columns = ['Cantidad_de_Recuperados','Cantidad_de_Fallecidos','Casos']\n",
        "df_Help.head(5)"
      ],
      "execution_count": null,
      "outputs": [
        {
          "output_type": "execute_result",
          "data": {
            "text/html": [
              "<div>\n",
              "<style scoped>\n",
              "    .dataframe tbody tr th:only-of-type {\n",
              "        vertical-align: middle;\n",
              "    }\n",
              "\n",
              "    .dataframe tbody tr th {\n",
              "        vertical-align: top;\n",
              "    }\n",
              "\n",
              "    .dataframe thead th {\n",
              "        text-align: right;\n",
              "    }\n",
              "</style>\n",
              "<table border=\"1\" class=\"dataframe\">\n",
              "  <thead>\n",
              "    <tr style=\"text-align: right;\">\n",
              "      <th></th>\n",
              "      <th>Cantidad_de_Recuperados</th>\n",
              "      <th>Cantidad_de_Fallecidos</th>\n",
              "      <th>Casos</th>\n",
              "    </tr>\n",
              "  </thead>\n",
              "  <tbody>\n",
              "    <tr>\n",
              "      <th>0</th>\n",
              "      <td>0</td>\n",
              "      <td>0</td>\n",
              "      <td>0</td>\n",
              "    </tr>\n",
              "    <tr>\n",
              "      <th>1</th>\n",
              "      <td>0</td>\n",
              "      <td>0</td>\n",
              "      <td>0</td>\n",
              "    </tr>\n",
              "    <tr>\n",
              "      <th>2</th>\n",
              "      <td>531 532</td>\n",
              "      <td>38 132</td>\n",
              "      <td>592 456</td>\n",
              "    </tr>\n",
              "    <tr>\n",
              "      <th>3</th>\n",
              "      <td>210 879</td>\n",
              "      <td>11 120</td>\n",
              "      <td>229 072</td>\n",
              "    </tr>\n",
              "    <tr>\n",
              "      <th>4</th>\n",
              "      <td>185 357</td>\n",
              "      <td>30 527</td>\n",
              "      <td>228 018</td>\n",
              "    </tr>\n",
              "  </tbody>\n",
              "</table>\n",
              "</div>"
            ],
            "text/plain": [
              "  Cantidad_de_Recuperados Cantidad_de_Fallecidos    Casos\n",
              "0                       0                      0        0\n",
              "1                       0                      0        0\n",
              "2                 531 532                 38 132  592 456\n",
              "3                 210 879                 11 120  229 072\n",
              "4                 185 357                 30 527  228 018"
            ]
          },
          "metadata": {
            "tags": []
          },
          "execution_count": 51
        }
      ]
    },
    {
      "cell_type": "markdown",
      "metadata": {
        "id": "iVCRLMsfB32X"
      },
      "source": [
        "Aqui observamos la informacion y tipos de datos que tiene el df_Help, observando que tiene datos que son tipo object, es decir que tienen texto , entonces tendremos que limiparlos para que sean de tipo texto "
      ]
    },
    {
      "cell_type": "code",
      "metadata": {
        "colab": {
          "base_uri": "https://localhost:8080/"
        },
        "id": "tPIHB4zcBwvW",
        "outputId": "ec183ca0-c942-4652-aa46-804808eb916b"
      },
      "source": [
        "df_Help.info()"
      ],
      "execution_count": null,
      "outputs": [
        {
          "output_type": "stream",
          "text": [
            "<class 'pandas.core.frame.DataFrame'>\n",
            "RangeIndex: 36 entries, 0 to 35\n",
            "Data columns (total 3 columns):\n",
            " #   Column                   Non-Null Count  Dtype \n",
            "---  ------                   --------------  ----- \n",
            " 0   Cantidad_de_Recuperados  36 non-null     object\n",
            " 1   Cantidad_de_Fallecidos   36 non-null     object\n",
            " 2   Casos                    36 non-null     object\n",
            "dtypes: object(3)\n",
            "memory usage: 992.0+ bytes\n"
          ],
          "name": "stdout"
        }
      ]
    },
    {
      "cell_type": "markdown",
      "metadata": {
        "id": "by6lz3VhDSyr"
      },
      "source": [
        "Aqui elimine las dos últimas filas y las dos últimas columnas del Data Frame pues son 0. Pero no modifico el DF original, lo asigno a uno nuevo."
      ]
    },
    {
      "cell_type": "code",
      "metadata": {
        "id": "ReWsWr9MDcQD"
      },
      "source": [
        "df_Help_2 = df_Help.drop([0,1,34,35], axis = 0).reset_index().drop(['index'],axis = 1)"
      ],
      "execution_count": null,
      "outputs": []
    },
    {
      "cell_type": "code",
      "metadata": {
        "colab": {
          "base_uri": "https://localhost:8080/",
          "height": 1000
        },
        "id": "F4gEl9utDfJ4",
        "outputId": "cf3ef447-92a2-41f0-c60f-1cd6780071e4"
      },
      "source": [
        "df_Help_2"
      ],
      "execution_count": null,
      "outputs": [
        {
          "output_type": "execute_result",
          "data": {
            "text/html": [
              "<div>\n",
              "<style scoped>\n",
              "    .dataframe tbody tr th:only-of-type {\n",
              "        vertical-align: middle;\n",
              "    }\n",
              "\n",
              "    .dataframe tbody tr th {\n",
              "        vertical-align: top;\n",
              "    }\n",
              "\n",
              "    .dataframe thead th {\n",
              "        text-align: right;\n",
              "    }\n",
              "</style>\n",
              "<table border=\"1\" class=\"dataframe\">\n",
              "  <thead>\n",
              "    <tr style=\"text-align: right;\">\n",
              "      <th></th>\n",
              "      <th>Cantidad_de_Recuperados</th>\n",
              "      <th>Cantidad_de_Fallecidos</th>\n",
              "      <th>Casos</th>\n",
              "    </tr>\n",
              "  </thead>\n",
              "  <tbody>\n",
              "    <tr>\n",
              "      <th>0</th>\n",
              "      <td>531 532</td>\n",
              "      <td>38 132</td>\n",
              "      <td>592 456</td>\n",
              "    </tr>\n",
              "    <tr>\n",
              "      <th>1</th>\n",
              "      <td>210 879</td>\n",
              "      <td>11 120</td>\n",
              "      <td>229 072</td>\n",
              "    </tr>\n",
              "    <tr>\n",
              "      <th>2</th>\n",
              "      <td>185 357</td>\n",
              "      <td>30 527</td>\n",
              "      <td>228 018</td>\n",
              "    </tr>\n",
              "    <tr>\n",
              "      <th>3</th>\n",
              "      <td>158 519</td>\n",
              "      <td>10 092</td>\n",
              "      <td>170 304</td>\n",
              "    </tr>\n",
              "    <tr>\n",
              "      <th>4</th>\n",
              "      <td>111 612</td>\n",
              "      <td>10 261</td>\n",
              "      <td>126 043</td>\n",
              "    </tr>\n",
              "    <tr>\n",
              "      <th>5</th>\n",
              "      <td>59 711</td>\n",
              "      <td>10 392</td>\n",
              "      <td>76 649</td>\n",
              "    </tr>\n",
              "    <tr>\n",
              "      <th>6</th>\n",
              "      <td>61 824</td>\n",
              "      <td>6223</td>\n",
              "      <td>69 288</td>\n",
              "    </tr>\n",
              "    <tr>\n",
              "      <th>7</th>\n",
              "      <td>59 024</td>\n",
              "      <td>5837</td>\n",
              "      <td>65 991</td>\n",
              "    </tr>\n",
              "    <tr>\n",
              "      <th>8</th>\n",
              "      <td>52 721</td>\n",
              "      <td>3985</td>\n",
              "      <td>62 082</td>\n",
              "    </tr>\n",
              "    <tr>\n",
              "      <th>9</th>\n",
              "      <td>55 173</td>\n",
              "      <td>3879</td>\n",
              "      <td>59 752</td>\n",
              "    </tr>\n",
              "    <tr>\n",
              "      <th>10</th>\n",
              "      <td>49 559</td>\n",
              "      <td>5036</td>\n",
              "      <td>59 558</td>\n",
              "    </tr>\n",
              "    <tr>\n",
              "      <th>11</th>\n",
              "      <td>48 606</td>\n",
              "      <td>5536</td>\n",
              "      <td>57 139</td>\n",
              "    </tr>\n",
              "    <tr>\n",
              "      <th>12</th>\n",
              "      <td>50 586</td>\n",
              "      <td>5000</td>\n",
              "      <td>57 004</td>\n",
              "    </tr>\n",
              "    <tr>\n",
              "      <th>13</th>\n",
              "      <td>46 438</td>\n",
              "      <td>8584</td>\n",
              "      <td>56 806</td>\n",
              "    </tr>\n",
              "    <tr>\n",
              "      <th>14</th>\n",
              "      <td>45 402</td>\n",
              "      <td>4589</td>\n",
              "      <td>54 426</td>\n",
              "    </tr>\n",
              "    <tr>\n",
              "      <th>15</th>\n",
              "      <td>36 400</td>\n",
              "      <td>7687</td>\n",
              "      <td>45 952</td>\n",
              "    </tr>\n",
              "    <tr>\n",
              "      <th>16</th>\n",
              "      <td>39 185</td>\n",
              "      <td>3101</td>\n",
              "      <td>42 807</td>\n",
              "    </tr>\n",
              "    <tr>\n",
              "      <th>17</th>\n",
              "      <td>30 246</td>\n",
              "      <td>3895</td>\n",
              "      <td>36 885</td>\n",
              "    </tr>\n",
              "    <tr>\n",
              "      <th>18</th>\n",
              "      <td>26 758</td>\n",
              "      <td>5725</td>\n",
              "      <td>35 944</td>\n",
              "    </tr>\n",
              "    <tr>\n",
              "      <th>19</th>\n",
              "      <td>29 356</td>\n",
              "      <td>5555</td>\n",
              "      <td>35 404</td>\n",
              "    </tr>\n",
              "    <tr>\n",
              "      <th>20</th>\n",
              "      <td>29 772</td>\n",
              "      <td>3667</td>\n",
              "      <td>34 269</td>\n",
              "    </tr>\n",
              "    <tr>\n",
              "      <th>21</th>\n",
              "      <td>26 777</td>\n",
              "      <td>2618</td>\n",
              "      <td>31 813</td>\n",
              "    </tr>\n",
              "    <tr>\n",
              "      <th>22</th>\n",
              "      <td>23514</td>\n",
              "      <td>2633</td>\n",
              "      <td>29 021</td>\n",
              "    </tr>\n",
              "    <tr>\n",
              "      <th>23</th>\n",
              "      <td>24 711</td>\n",
              "      <td>2782</td>\n",
              "      <td>28 394</td>\n",
              "    </tr>\n",
              "    <tr>\n",
              "      <th>24</th>\n",
              "      <td>25 102</td>\n",
              "      <td>1343</td>\n",
              "      <td>27 465</td>\n",
              "    </tr>\n",
              "    <tr>\n",
              "      <th>25</th>\n",
              "      <td>20 702</td>\n",
              "      <td>2327</td>\n",
              "      <td>24 098</td>\n",
              "    </tr>\n",
              "    <tr>\n",
              "      <th>26</th>\n",
              "      <td>17 273</td>\n",
              "      <td>2455</td>\n",
              "      <td>20 810</td>\n",
              "    </tr>\n",
              "    <tr>\n",
              "      <th>27</th>\n",
              "      <td>11680</td>\n",
              "      <td>2242</td>\n",
              "      <td>18 010</td>\n",
              "    </tr>\n",
              "    <tr>\n",
              "      <th>28</th>\n",
              "      <td>8896</td>\n",
              "      <td>1769</td>\n",
              "      <td>11 168</td>\n",
              "    </tr>\n",
              "    <tr>\n",
              "      <th>29</th>\n",
              "      <td>8243</td>\n",
              "      <td>1206</td>\n",
              "      <td>10 687</td>\n",
              "    </tr>\n",
              "    <tr>\n",
              "      <th>30</th>\n",
              "      <td>8512</td>\n",
              "      <td>1468</td>\n",
              "      <td>10 285</td>\n",
              "    </tr>\n",
              "    <tr>\n",
              "      <th>31</th>\n",
              "      <td>7415</td>\n",
              "      <td>1081</td>\n",
              "      <td>8789</td>\n",
              "    </tr>\n",
              "  </tbody>\n",
              "</table>\n",
              "</div>"
            ],
            "text/plain": [
              "   Cantidad_de_Recuperados Cantidad_de_Fallecidos    Casos\n",
              "0                  531 532                 38 132  592 456\n",
              "1                  210 879                 11 120  229 072\n",
              "2                  185 357                 30 527  228 018\n",
              "3                  158 519                 10 092  170 304\n",
              "4                  111 612                 10 261  126 043\n",
              "5                   59 711                 10 392   76 649\n",
              "6                   61 824                   6223   69 288\n",
              "7                   59 024                   5837   65 991\n",
              "8                   52 721                   3985   62 082\n",
              "9                   55 173                   3879   59 752\n",
              "10                  49 559                   5036   59 558\n",
              "11                  48 606                   5536   57 139\n",
              "12                  50 586                   5000   57 004\n",
              "13                  46 438                   8584   56 806\n",
              "14                  45 402                   4589   54 426\n",
              "15                  36 400                   7687   45 952\n",
              "16                  39 185                   3101   42 807\n",
              "17                  30 246                   3895   36 885\n",
              "18                  26 758                   5725   35 944\n",
              "19                  29 356                   5555   35 404\n",
              "20                  29 772                   3667   34 269\n",
              "21                  26 777                   2618   31 813\n",
              "22                   23514                   2633   29 021\n",
              "23                  24 711                   2782   28 394\n",
              "24                  25 102                   1343   27 465\n",
              "25                  20 702                   2327   24 098\n",
              "26                  17 273                   2455   20 810\n",
              "27                   11680                   2242   18 010\n",
              "28                    8896                   1769   11 168\n",
              "29                    8243                   1206   10 687\n",
              "30                    8512                   1468   10 285\n",
              "31                    7415                   1081     8789"
            ]
          },
          "metadata": {
            "tags": []
          },
          "execution_count": 11
        }
      ]
    },
    {
      "cell_type": "markdown",
      "metadata": {
        "id": "ok9GnqbCDpPo"
      },
      "source": [
        "Aqui modifique me fije que las columnas de casos, cantidad_de_fallecidos,cantidad_de_recuperados son de tipo object por que tienen \"\\xa\" entre los numeros y eso hay que eliminarlo. para que quede solo dato numerico."
      ]
    },
    {
      "cell_type": "code",
      "metadata": {
        "colab": {
          "base_uri": "https://localhost:8080/"
        },
        "id": "3DYdILIcEvZ_",
        "outputId": "c802f4b2-9788-4fdc-9d76-72e2ad89eeae"
      },
      "source": [
        "#Aqui modifique la primer columna de\"Cantidad_de_Recuperados\" para que quedaran puros datos numericos enteros.\n",
        "df_Help_2[\"Cantidad_de_Recuperados\"] = df_Help_2[\"Cantidad_de_Recuperados\"].apply(lambda x: x.replace(u'\\xa0', u''))\n",
        "df_Help_2[\"Cantidad_de_Recuperados\"]= df_Help_2[\"Cantidad_de_Recuperados\"].astype(int)\n",
        "df_Help_2[\"Cantidad_de_Recuperados\"]"
      ],
      "execution_count": null,
      "outputs": [
        {
          "output_type": "execute_result",
          "data": {
            "text/plain": [
              "0     531532\n",
              "1     210879\n",
              "2     185357\n",
              "3     158519\n",
              "4     111612\n",
              "5      59711\n",
              "6      61824\n",
              "7      59024\n",
              "8      52721\n",
              "9      55173\n",
              "10     49559\n",
              "11     48606\n",
              "12     50586\n",
              "13     46438\n",
              "14     45402\n",
              "15     36400\n",
              "16     39185\n",
              "17     30246\n",
              "18     26758\n",
              "19     29356\n",
              "20     29772\n",
              "21     26777\n",
              "22     23514\n",
              "23     24711\n",
              "24     25102\n",
              "25     20702\n",
              "26     17273\n",
              "27     11680\n",
              "28      8896\n",
              "29      8243\n",
              "30      8512\n",
              "31      7415\n",
              "Name: Cantidad_de_Recuperados, dtype: int64"
            ]
          },
          "metadata": {
            "tags": []
          },
          "execution_count": 55
        }
      ]
    },
    {
      "cell_type": "code",
      "metadata": {
        "colab": {
          "base_uri": "https://localhost:8080/"
        },
        "id": "D7iELKzNFBal",
        "outputId": "830cb0ff-9600-4cfc-d1ac-f6b159e36cd6"
      },
      "source": [
        "#Aqui modifique la segunda columna de\"Cantidad_de_Fallecidos\" para que quedaran puros datos numericos enteros.\n",
        "df_Help_2[\"Cantidad_de_Fallecidos\"] = df_Help_2[\"Cantidad_de_Fallecidos\"].apply(lambda x: x.replace(u'\\xa0', u''))\n",
        "df_Help_2[\"Cantidad_de_Fallecidos\"]= df_Help_2[\"Cantidad_de_Fallecidos\"].astype(int)\n",
        "df_Help_2[\"Cantidad_de_Fallecidos\"]"
      ],
      "execution_count": null,
      "outputs": [
        {
          "output_type": "execute_result",
          "data": {
            "text/plain": [
              "0     38132\n",
              "1     11120\n",
              "2     30527\n",
              "3     10092\n",
              "4     10261\n",
              "5     10392\n",
              "6      6223\n",
              "7      5837\n",
              "8      3985\n",
              "9      3879\n",
              "10     5036\n",
              "11     5536\n",
              "12     5000\n",
              "13     8584\n",
              "14     4589\n",
              "15     7687\n",
              "16     3101\n",
              "17     3895\n",
              "18     5725\n",
              "19     5555\n",
              "20     3667\n",
              "21     2618\n",
              "22     2633\n",
              "23     2782\n",
              "24     1343\n",
              "25     2327\n",
              "26     2455\n",
              "27     2242\n",
              "28     1769\n",
              "29     1206\n",
              "30     1468\n",
              "31     1081\n",
              "Name: Cantidad_de_Fallecidos, dtype: int64"
            ]
          },
          "metadata": {
            "tags": []
          },
          "execution_count": 56
        }
      ]
    },
    {
      "cell_type": "code",
      "metadata": {
        "colab": {
          "base_uri": "https://localhost:8080/"
        },
        "id": "m6CEJnjfFhzv",
        "outputId": "2be19d52-3e2b-49c3-e1fe-a548d3b62cbb"
      },
      "source": [
        "#Aqui modifique la Tercer columna de\"Casos\" para que quedaran puros datos numericos enteros.\n",
        "df_Help_2[\"Casos\"] = df_Help_2[\"Casos\"].apply(lambda x: x.replace(u'\\xa0', u''))\n",
        "df_Help_2[\"Casos\"] = df_Help_2[\"Casos\"].astype(int)\n",
        "df_Help_2[\"Casos\"]"
      ],
      "execution_count": null,
      "outputs": [
        {
          "output_type": "execute_result",
          "data": {
            "text/plain": [
              "0     592456\n",
              "1     229072\n",
              "2     228018\n",
              "3     170304\n",
              "4     126043\n",
              "5      76649\n",
              "6      69288\n",
              "7      65991\n",
              "8      62082\n",
              "9      59752\n",
              "10     59558\n",
              "11     57139\n",
              "12     57004\n",
              "13     56806\n",
              "14     54426\n",
              "15     45952\n",
              "16     42807\n",
              "17     36885\n",
              "18     35944\n",
              "19     35404\n",
              "20     34269\n",
              "21     31813\n",
              "22     29021\n",
              "23     28394\n",
              "24     27465\n",
              "25     24098\n",
              "26     20810\n",
              "27     18010\n",
              "28     11168\n",
              "29     10687\n",
              "30     10285\n",
              "31      8789\n",
              "Name: Casos, dtype: int64"
            ]
          },
          "metadata": {
            "tags": []
          },
          "execution_count": 57
        }
      ]
    },
    {
      "cell_type": "markdown",
      "metadata": {
        "id": "jEn8Fn4tF33v"
      },
      "source": [
        "Aqui se hara la tabla de los casos que hay por estado"
      ]
    },
    {
      "cell_type": "code",
      "metadata": {
        "colab": {
          "base_uri": "https://localhost:8080/",
          "height": 235
        },
        "id": "gjg7s0s2F1ee",
        "outputId": "df791de5-6273-4c79-d1ef-ba02f2cee53c"
      },
      "source": [
        "df_by_casosporEdo = df_Modif.groupby([\"Estados\"])[['Casos']].aggregate(pd.DataFrame.sum)\n",
        "df_by_casosporEdo.head(5)"
      ],
      "execution_count": null,
      "outputs": [
        {
          "output_type": "execute_result",
          "data": {
            "text/html": [
              "<div>\n",
              "<style scoped>\n",
              "    .dataframe tbody tr th:only-of-type {\n",
              "        vertical-align: middle;\n",
              "    }\n",
              "\n",
              "    .dataframe tbody tr th {\n",
              "        vertical-align: top;\n",
              "    }\n",
              "\n",
              "    .dataframe thead th {\n",
              "        text-align: right;\n",
              "    }\n",
              "</style>\n",
              "<table border=\"1\" class=\"dataframe\">\n",
              "  <thead>\n",
              "    <tr style=\"text-align: right;\">\n",
              "      <th></th>\n",
              "      <th>Casos</th>\n",
              "    </tr>\n",
              "    <tr>\n",
              "      <th>Estados</th>\n",
              "      <th></th>\n",
              "    </tr>\n",
              "  </thead>\n",
              "  <tbody>\n",
              "    <tr>\n",
              "      <th>Aguascalientes</th>\n",
              "      <td>24 098</td>\n",
              "    </tr>\n",
              "    <tr>\n",
              "      <th>Baja California</th>\n",
              "      <td>45 952</td>\n",
              "    </tr>\n",
              "    <tr>\n",
              "      <th>Baja California Sur</th>\n",
              "      <td>27 465</td>\n",
              "    </tr>\n",
              "    <tr>\n",
              "      <th>Campeche</th>\n",
              "      <td>8789</td>\n",
              "    </tr>\n",
              "    <tr>\n",
              "      <th>Chiapas</th>\n",
              "      <td>10 285</td>\n",
              "    </tr>\n",
              "  </tbody>\n",
              "</table>\n",
              "</div>"
            ],
            "text/plain": [
              "                      Casos\n",
              "Estados                    \n",
              "Aguascalientes       24 098\n",
              "Baja California      45 952\n",
              "Baja California Sur  27 465\n",
              "Campeche               8789\n",
              "Chiapas              10 285"
            ]
          },
          "metadata": {
            "tags": []
          },
          "execution_count": 58
        }
      ]
    },
    {
      "cell_type": "code",
      "metadata": {
        "colab": {
          "base_uri": "https://localhost:8080/"
        },
        "id": "-zhulFhOIyCn",
        "outputId": "2dd4b58b-a3fb-4d5e-bcba-01a16c1b59d1"
      },
      "source": [
        "#Aqui tabulamos los datos dela nueva base de datos llamada df_Help_2\n",
        "print_tabulate(df_Help_2.head(5))"
      ],
      "execution_count": null,
      "outputs": [
        {
          "output_type": "stream",
          "text": [
            "|    |   Cantidad_de_Recuperados |   Cantidad_de_Fallecidos |   Casos |\n",
            "|----+---------------------------+--------------------------+---------|\n",
            "|  0 |                    531532 |                    38132 |  592456 |\n",
            "|  1 |                    210879 |                    11120 |  229072 |\n",
            "|  2 |                    185357 |                    30527 |  228018 |\n",
            "|  3 |                    158519 |                    10092 |  170304 |\n",
            "|  4 |                    111612 |                    10261 |  126043 |\n"
          ],
          "name": "stdout"
        }
      ]
    },
    {
      "cell_type": "markdown",
      "metadata": {
        "id": "3Mu9fYOZKPpo"
      },
      "source": [
        "Grafico de Caja de Bigotes "
      ]
    },
    {
      "cell_type": "code",
      "metadata": {
        "colab": {
          "base_uri": "https://localhost:8080/",
          "height": 297
        },
        "id": "G-mYM7kUI_zR",
        "outputId": "58e642a5-3ee8-4720-fa52-f9e9ad97cc69"
      },
      "source": [
        "df_Help_2.loc[:,'Cantidad_de_Recuperados'].plot(kind='box',figsize=(4,4))\n",
        "plt.title('Grafica de caja de Casos de Covid en Mexico') #Aqui es para agregar el titulo\n",
        "plt.ylabel('Casos Mexico')\n",
        "plt.grid(linestyle='--')\n",
        "plt.tight_layout()"
      ],
      "execution_count": null,
      "outputs": [
        {
          "output_type": "display_data",
          "data": {
            "image/png": "[encoded data removed]",
            "text/plain": [
              "<Figure size 288x288 with 1 Axes>"
            ]
          },
          "metadata": {
            "tags": [],
            "needs_background": "light"
          }
        }
      ]
    },
    {
      "cell_type": "markdown",
      "metadata": {
        "id": "kKBYWYHtKfy3"
      },
      "source": [
        "Aqui obtengo la info del segundo df_Help_2 los tipos de datos del df "
      ]
    },
    {
      "cell_type": "code",
      "metadata": {
        "colab": {
          "base_uri": "https://localhost:8080/"
        },
        "id": "aR-eh_vLKT1d",
        "outputId": "1f692408-16d5-43b2-c8fa-3f0699a109f3"
      },
      "source": [
        "df_Help_2.info()"
      ],
      "execution_count": null,
      "outputs": [
        {
          "output_type": "stream",
          "text": [
            "<class 'pandas.core.frame.DataFrame'>\n",
            "RangeIndex: 32 entries, 0 to 31\n",
            "Data columns (total 3 columns):\n",
            " #   Column                   Non-Null Count  Dtype\n",
            "---  ------                   --------------  -----\n",
            " 0   Cantidad_de_Recuperados  32 non-null     int64\n",
            " 1   Cantidad_de_Fallecidos   32 non-null     int64\n",
            " 2   Casos                    32 non-null     int64\n",
            "dtypes: int64(3)\n",
            "memory usage: 896.0 bytes\n"
          ],
          "name": "stdout"
        }
      ]
    },
    {
      "cell_type": "markdown",
      "metadata": {
        "id": "SsQd219cLBOW"
      },
      "source": [
        "Aqui hacemos el plot de las columnas de \"Cantidad_de_Recuperados\" con  \"Casos\""
      ]
    },
    {
      "cell_type": "code",
      "metadata": {
        "colab": {
          "base_uri": "https://localhost:8080/",
          "height": 313
        },
        "id": "GKI73DdmK1TV",
        "outputId": "3459f9ef-f1d1-40bb-c730-aa799e2528f9"
      },
      "source": [
        "df_Help_2.plot(x=\"Cantidad_de_Recuperados\", y = 'Casos', legend=False, figsize=(4,4))\n",
        "plt.title(\"Plot de Cant Recuperados\")  #Aqui es para agregar titulo al grafico "
      ],
      "execution_count": null,
      "outputs": [
        {
          "output_type": "execute_result",
          "data": {
            "text/plain": [
              "Text(0.5, 1.0, 'Plot de Cant Recuperados')"
            ]
          },
          "metadata": {
            "tags": []
          },
          "execution_count": 62
        },
        {
          "output_type": "display_data",
          "data": {
            "image/png": "[encoded data removed]",
            "text/plain": [
              "<Figure size 288x288 with 1 Axes>"
            ]
          },
          "metadata": {
            "tags": [],
            "needs_background": "light"
          }
        }
      ]
    },
    {
      "cell_type": "markdown",
      "metadata": {
        "id": "he-vv8gJLVfM"
      },
      "source": [
        "Aqui hacemos el plot de las columnas de \"Cantidad_de_Fallecidos\" con \"Casos\""
      ]
    },
    {
      "cell_type": "code",
      "metadata": {
        "colab": {
          "base_uri": "https://localhost:8080/",
          "height": 313
        },
        "id": "PwuiNT1bLUDg",
        "outputId": "7689da5d-5d93-4601-bc4e-d8c0fda6f1eb"
      },
      "source": [
        "df_Help_2.plot(x=\"Cantidad_de_Fallecidos\", y='Casos', legend=False, figsize=(4,4))\n",
        "plt.title(\"Plot de Cant fallecidos\")  #Aqui es para agregar titulo al grafico "
      ],
      "execution_count": null,
      "outputs": [
        {
          "output_type": "execute_result",
          "data": {
            "text/plain": [
              "Text(0.5, 1.0, 'Plot de Cant fallecidos')"
            ]
          },
          "metadata": {
            "tags": []
          },
          "execution_count": 63
        },
        {
          "output_type": "display_data",
          "data": {
            "image/png": "[encoded data removed]",
            "text/plain": [
              "<Figure size 288x288 with 1 Axes>"
            ]
          },
          "metadata": {
            "tags": [],
            "needs_background": "light"
          }
        }
      ]
    },
    {
      "cell_type": "markdown",
      "metadata": {
        "id": "k7y0-exKL6le"
      },
      "source": [
        "Hacemos dos graficos en una sola ventana "
      ]
    },
    {
      "cell_type": "code",
      "metadata": {
        "colab": {
          "base_uri": "https://localhost:8080/",
          "height": 314
        },
        "id": "KuIK5-7WL2bs",
        "outputId": "5b26144d-c22b-4f5a-b4f0-e3d6d250a976"
      },
      "source": [
        "#Dos gráficos en una sola notación\n",
        "\n",
        "plt.subplot(121) #GRAFICO 1\n",
        "plt.plot(df_Help_2.loc[:,'Cantidad_de_Recuperados'],df_Help_2.loc[:,'Casos'])\n",
        "plt.ylabel('Casos')\n",
        "plt.xlabel('Cantidad de recuperados')\n",
        "plt.tight_layout()\n",
        "plt.title(\"Gráfico de Cant fallecidos\") #Aqui es para agregar titulo al grafico 1\n",
        "plt.subplot(122) #GRAFICO 2\n",
        "plt.plot(df_Help_2.loc[:,'Cantidad_de_Fallecidos'],df_Help_2.loc[:,'Casos'])\n",
        "plt.xlabel('Cantidad de fallecidos')\n",
        "plt.tight_layout()\n",
        "plt.title(\"Gráfico de Cant fallecidos\")  #Aqui es para agregar titulo al grafico 2"
      ],
      "execution_count": null,
      "outputs": [
        {
          "output_type": "execute_result",
          "data": {
            "text/plain": [
              "Text(0.5, 1.0, 'Gráfico de Cant fallecidos')"
            ]
          },
          "metadata": {
            "tags": []
          },
          "execution_count": 64
        },
        {
          "output_type": "display_data",
          "data": {
            "image/png": "[encoded data removed]",
            "text/plain": [
              "<Figure size 432x288 with 2 Axes>"
            ]
          },
          "metadata": {
            "tags": [],
            "needs_background": "light"
          }
        }
      ]
    },
    {
      "cell_type": "code",
      "metadata": {
        "colab": {
          "base_uri": "https://localhost:8080/",
          "height": 314
        },
        "id": "VEhcxb4kMRox",
        "outputId": "a18ffbaf-382a-4010-cfa3-549cee3c9b67"
      },
      "source": [
        "#DOS GRAFICOS DE PUNTOS en una sola notación\n",
        "\n",
        "plt.subplot(121) #GRAFICO 1\n",
        "plt.plot(df_Help_2.loc[:,'Cantidad_de_Recuperados'],df_Help_2.loc[:,'Casos'],'o')\n",
        "plt.ylabel('Casos')\n",
        "plt.xlabel('Cantidad de recuperados')\n",
        "plt.tight_layout()\n",
        "plt.title(\"Gráfico de Cant fallecidos\") #Aqui es para agregar titulo al grafico 1\n",
        "plt.subplot(122) #GRAFICO 2\n",
        "plt.plot(df_Help_2.loc[:,'Cantidad_de_Fallecidos'],df_Help_2.loc[:,'Casos'],'o')\n",
        "plt.xlabel('Cantidad de fallecidos')\n",
        "plt.tight_layout()\n",
        "plt.title(\"Gráfico de Cant fallecidos\")  #Aqui es para agregar titulo al grafico 2"
      ],
      "execution_count": null,
      "outputs": [
        {
          "output_type": "execute_result",
          "data": {
            "text/plain": [
              "Text(0.5, 1.0, 'Gráfico de Cant fallecidos')"
            ]
          },
          "metadata": {
            "tags": []
          },
          "execution_count": 65
        },
        {
          "output_type": "display_data",
          "data": {
            "image/png": "[encoded data removed]",
            "text/plain": [
              "<Figure size 432x288 with 2 Axes>"
            ]
          },
          "metadata": {
            "tags": [],
            "needs_background": "light"
          }
        }
      ]
    },
    {
      "cell_type": "code",
      "metadata": {
        "colab": {
          "base_uri": "https://localhost:8080/",
          "height": 314
        },
        "id": "xZUfLOlOMevb",
        "outputId": "c6674e23-7745-4f4c-a8a3-86d62f57e3fa"
      },
      "source": [
        "#DOS GRAFICOS PUNTEADOS en una sola notación.\n",
        "plt.subplot(121) #GRAFICO 1\n",
        "plt.plot(df_Help_2.loc[:,'Cantidad_de_Recuperados'],df_Help_2.loc[:,'Casos'],'--')\n",
        "plt.ylabel('Casos')\n",
        "plt.xlabel('Cantidad de recuperados')\n",
        "plt.tight_layout()\n",
        "plt.title(\"Gráfico de Cant fallecidos\") #Aqui es para agregar titulo al grafico 1\n",
        "plt.subplot(122) #GRAFICO 2\n",
        "plt.plot(df_Help_2.loc[:,'Cantidad_de_Fallecidos'],df_Help_2.loc[:,'Casos'],'--')\n",
        "plt.xlabel('Cantidad de fallecidos')\n",
        "plt.tight_layout()\n",
        "plt.title(\"Gráfico de Cant fallecidos\")  #Aqui es para agregar titulo al grafico 2"
      ],
      "execution_count": null,
      "outputs": [
        {
          "output_type": "execute_result",
          "data": {
            "text/plain": [
              "Text(0.5, 1.0, 'Gráfico de Cant fallecidos')"
            ]
          },
          "metadata": {
            "tags": []
          },
          "execution_count": 66
        },
        {
          "output_type": "display_data",
          "data": {
            "image/png": "[encoded data removed]",
            "text/plain": [
              "<Figure size 432x288 with 2 Axes>"
            ]
          },
          "metadata": {
            "tags": [],
            "needs_background": "light"
          }
        }
      ]
    },
    {
      "cell_type": "code",
      "metadata": {
        "colab": {
          "base_uri": "https://localhost:8080/",
          "height": 297
        },
        "id": "5EEFIAb7Mybh",
        "outputId": "07eca685-2a40-49a1-ef37-562af91d50c7"
      },
      "source": [
        "#DOS GRAFICOS CON LAMINA en una sola notación.\n",
        "plt.subplot(121) #GRAFICO 1\n",
        "plt.plot(df_Help_2.loc[:,'Cantidad_de_Recuperados'],df_Help_2.loc[:,'Casos'])\n",
        "plt.ylabel('Casos')\n",
        "plt.xlabel('Cantidad de Cant recuperados')\n",
        "plt.title(\"Gráfico de Cant fallecidos\") #Aqui es para agregar titulo al grafico 1\n",
        "plt.grid()\n",
        "plt.tight_layout()\n",
        "plt.subplot(122) #GRAFICO 2\n",
        "plt.plot(df_Help_2.loc[:,'Cantidad_de_Fallecidos'],df_Help_2.loc[:,'Casos'])\n",
        "plt.xlabel('Cantidad de fallecidos')\n",
        "plt.title(\"Gráfico de Cant fallecidos\")  #Aqui es para agregar titulo al grafico 2\n",
        "plt.grid()\n",
        "plt.tight_layout()"
      ],
      "execution_count": null,
      "outputs": [
        {
          "output_type": "display_data",
          "data": {
            "image/png": "[encoded data removed]",
            "text/plain": [
              "<Figure size 432x288 with 2 Axes>"
            ]
          },
          "metadata": {
            "tags": [],
            "needs_background": "light"
          }
        }
      ]
    },
    {
      "cell_type": "markdown",
      "metadata": {
        "id": "_GLKJLW7m6FF"
      },
      "source": [
        "Gráfico de casos confirmados con colores "
      ]
    },
    {
      "cell_type": "code",
      "metadata": {
        "colab": {
          "base_uri": "https://localhost:8080/",
          "height": 298
        },
        "id": "79cU2LMVmbqe",
        "outputId": "bcc27bed-1fa5-4683-a714-c975612085e3"
      },
      "source": [
        "df_Help_2.sort_values('Casos').reset_index().drop('index',axis = 1).plot(kind = 'line')\n",
        "plt.title(\"Plot Casos Confirmados COVID en México\")  #Aqui es para agregar titulo al grafico "
      ],
      "execution_count": null,
      "outputs": [
        {
          "output_type": "execute_result",
          "data": {
            "text/plain": [
              "Text(0.5, 1.0, 'Plot Casos Confirmados COVID en México')"
            ]
          },
          "metadata": {
            "tags": []
          },
          "execution_count": 68
        },
        {
          "output_type": "display_data",
          "data": {
            "image/png": "[encoded data removed]",
            "text/plain": [
              "<Figure size 432x288 with 1 Axes>"
            ]
          },
          "metadata": {
            "tags": [],
            "needs_background": "light"
          }
        }
      ]
    },
    {
      "cell_type": "markdown",
      "metadata": {
        "id": "F7pWyXU0nNJ3"
      },
      "source": [
        "Estadistica DESCRIPTIVA"
      ]
    },
    {
      "cell_type": "code",
      "metadata": {
        "colab": {
          "base_uri": "https://localhost:8080/",
          "height": 297
        },
        "id": "XSfbIF_ZnED6",
        "outputId": "aee87422-f175-41d3-9343-03c2392adf87"
      },
      "source": [
        "#Estadistica DESCRIPTIVA de datos\n",
        "df_Help_2.describe()"
      ],
      "execution_count": null,
      "outputs": [
        {
          "output_type": "execute_result",
          "data": {
            "text/html": [
              "<div>\n",
              "<style scoped>\n",
              "    .dataframe tbody tr th:only-of-type {\n",
              "        vertical-align: middle;\n",
              "    }\n",
              "\n",
              "    .dataframe tbody tr th {\n",
              "        vertical-align: top;\n",
              "    }\n",
              "\n",
              "    .dataframe thead th {\n",
              "        text-align: right;\n",
              "    }\n",
              "</style>\n",
              "<table border=\"1\" class=\"dataframe\">\n",
              "  <thead>\n",
              "    <tr style=\"text-align: right;\">\n",
              "      <th></th>\n",
              "      <th>Cantidad_de_Recuperados</th>\n",
              "      <th>Cantidad_de_Fallecidos</th>\n",
              "      <th>Casos</th>\n",
              "    </tr>\n",
              "  </thead>\n",
              "  <tbody>\n",
              "    <tr>\n",
              "      <th>count</th>\n",
              "      <td>32.000000</td>\n",
              "      <td>32.000000</td>\n",
              "      <td>32.000000</td>\n",
              "    </tr>\n",
              "    <tr>\n",
              "      <th>mean</th>\n",
              "      <td>65671.406250</td>\n",
              "      <td>6585.843750</td>\n",
              "      <td>75512.156250</td>\n",
              "    </tr>\n",
              "    <tr>\n",
              "      <th>std</th>\n",
              "      <td>98227.814059</td>\n",
              "      <td>7879.995379</td>\n",
              "      <td>109367.514837</td>\n",
              "    </tr>\n",
              "    <tr>\n",
              "      <th>min</th>\n",
              "      <td>7415.000000</td>\n",
              "      <td>1081.000000</td>\n",
              "      <td>8789.000000</td>\n",
              "    </tr>\n",
              "    <tr>\n",
              "      <th>25%</th>\n",
              "      <td>24411.750000</td>\n",
              "      <td>2577.250000</td>\n",
              "      <td>28161.750000</td>\n",
              "    </tr>\n",
              "    <tr>\n",
              "      <th>50%</th>\n",
              "      <td>37792.500000</td>\n",
              "      <td>4287.000000</td>\n",
              "      <td>44379.500000</td>\n",
              "    </tr>\n",
              "    <tr>\n",
              "      <th>75%</th>\n",
              "      <td>56135.750000</td>\n",
              "      <td>6589.000000</td>\n",
              "      <td>63059.250000</td>\n",
              "    </tr>\n",
              "    <tr>\n",
              "      <th>max</th>\n",
              "      <td>531532.000000</td>\n",
              "      <td>38132.000000</td>\n",
              "      <td>592456.000000</td>\n",
              "    </tr>\n",
              "  </tbody>\n",
              "</table>\n",
              "</div>"
            ],
            "text/plain": [
              "       Cantidad_de_Recuperados  Cantidad_de_Fallecidos          Casos\n",
              "count                32.000000               32.000000      32.000000\n",
              "mean              65671.406250             6585.843750   75512.156250\n",
              "std               98227.814059             7879.995379  109367.514837\n",
              "min                7415.000000             1081.000000    8789.000000\n",
              "25%               24411.750000             2577.250000   28161.750000\n",
              "50%               37792.500000             4287.000000   44379.500000\n",
              "75%               56135.750000             6589.000000   63059.250000\n",
              "max              531532.000000            38132.000000  592456.000000"
            ]
          },
          "metadata": {
            "tags": []
          },
          "execution_count": 69
        }
      ]
    },
    {
      "cell_type": "code",
      "metadata": {
        "id": "dbdi1EuTn99G"
      },
      "source": [
        "Gráfico de barras de FRECUENCIA "
      ],
      "execution_count": null,
      "outputs": []
    },
    {
      "cell_type": "code",
      "metadata": {
        "colab": {
          "base_uri": "https://localhost:8080/",
          "height": 330
        },
        "id": "8g6Gy4eNnU22",
        "outputId": "d01842f6-5af6-423d-a1ec-c0d0bafd044c"
      },
      "source": [
        "#Gráfica de barras de FRECUENCIAS de 3 columnas de casos\n",
        "df_Help_2.sort_values('Casos').reset_index().drop('index',axis = 1).plot(kind = 'bar')\n",
        "plt.tight_layout()\n",
        "plt.title(\"Frecuencias de Casos confirmados COVID en México\")  #Aqui es para agregar titulo al grafico "
      ],
      "execution_count": null,
      "outputs": [
        {
          "output_type": "execute_result",
          "data": {
            "text/plain": [
              "Text(0.5, 1.0, 'Frecuencias de Casos confirmados COVID en México')"
            ]
          },
          "metadata": {
            "tags": []
          },
          "execution_count": 70
        },
        {
          "output_type": "display_data",
          "data": {
            "image/png": "[encoded data removed]",
            "text/plain": [
              "<Figure size 432x288 with 1 Axes>"
            ]
          },
          "metadata": {
            "tags": [],
            "needs_background": "light"
          }
        }
      ]
    },
    {
      "cell_type": "code",
      "metadata": {
        "colab": {
          "base_uri": "https://localhost:8080/",
          "height": 364
        },
        "id": "P_L1hh23oGif",
        "outputId": "111dd564-7ca8-4f1a-e991-0d0ed28f606e"
      },
      "source": [
        "DJ = pd.DataFrame({'Estados':[24098,45952,27465,8789,10285]},index = ['Aguascalientes','BajaCalifornia','BajaCalif_Sur','Campeche','Chiapas'])\n",
        "DJ.plot(kind='bar')\n",
        "plt.title(\"Casos confirmados por Estado\")  #Aqui es para agregar titulo al grafico \n"
      ],
      "execution_count": null,
      "outputs": [
        {
          "output_type": "execute_result",
          "data": {
            "text/plain": [
              "Text(0.5, 1.0, 'Casos confirmados por Estado')"
            ]
          },
          "metadata": {
            "tags": []
          },
          "execution_count": 94
        },
        {
          "output_type": "display_data",
          "data": {
            "image/png": "[encoded data removed]",
            "text/plain": [
              "<Figure size 432x288 with 1 Axes>"
            ]
          },
          "metadata": {
            "tags": [],
            "needs_background": "light"
          }
        }
      ]
    },
    {
      "cell_type": "markdown",
      "metadata": {
        "id": "vYrCQrR9sqIU"
      },
      "source": [
        "Histograma de casos"
      ]
    },
    {
      "cell_type": "code",
      "metadata": {
        "id": "x7wA5l7kwFtF"
      },
      "source": [
        "import matplotlib.pyplot as plot"
      ],
      "execution_count": null,
      "outputs": []
    },
    {
      "cell_type": "code",
      "metadata": {
        "colab": {
          "base_uri": "https://localhost:8080/",
          "height": 295
        },
        "id": "PKLRf161soAm",
        "outputId": "f0536c06-ce2c-4e8f-d2c1-929188a1415e"
      },
      "source": [
        "\n",
        "histograma=df_Help_2[\"Casos\"]\n",
        "intervalos = [10000,15000,20000,30000,40000] #indicamos los extremos de los intervalos\n",
        "plot.hist(x=df_Help_2[\"Casos\"], bins=intervalos, color='#F2AB6D', rwidth=0.85,)\n",
        "plot.title('Histograma de casos confirmados por Estados')\n",
        "plot.xlabel('Casos')\n",
        "plot.ylabel('Estados')\n",
        "plot.xticks(intervalos)\n",
        "\n",
        "plot.show() #dibujamos el histograma"
      ],
      "execution_count": null,
      "outputs": [
        {
          "output_type": "display_data",
          "data": {
            "image/png": "[encoded data removed]",
            "text/plain": [
              "<Figure size 432x288 with 1 Axes>"
            ]
          },
          "metadata": {
            "tags": [],
            "needs_background": "light"
          }
        }
      ]
    },
    {
      "cell_type": "code",
      "metadata": {
        "colab": {
          "base_uri": "https://localhost:8080/",
          "height": 282
        },
        "id": "23EB0oIQyX5S",
        "outputId": "5c2d801c-b2b6-4f4f-8e20-6a8a154aceb9"
      },
      "source": [
        "DJ2 = pd.DataFrame({'Casos confirmados':[24098,45952,27465,8789,10285]},index = ['Aguascalientes','Baja Calif Norte','Baja Calif Sur','Campeche','Chiapas'])\n",
        "DJ2.plot(kind = 'line')"
      ],
      "execution_count": null,
      "outputs": [
        {
          "output_type": "execute_result",
          "data": {
            "text/plain": [
              "<matplotlib.axes._subplots.AxesSubplot at 0x7fa5924c5750>"
            ]
          },
          "metadata": {
            "tags": []
          },
          "execution_count": 90
        },
        {
          "output_type": "display_data",
          "data": {
            "image/png": "[encoded data removed]",
            "text/plain": [
              "<Figure size 432x288 with 1 Axes>"
            ]
          },
          "metadata": {
            "tags": [],
            "needs_background": "light"
          }
        }
      ]
    },
    {
      "cell_type": "markdown",
      "metadata": {
        "id": "GNQiDOpK3A_x"
      },
      "source": [
        "Aqui sacamos el p valor con Anova"
      ]
    },
    {
      "cell_type": "code",
      "metadata": {
        "colab": {
          "base_uri": "https://localhost:8080/"
        },
        "id": "F-zY_9GE2_fV",
        "outputId": "a58c0f3a-3a98-4e8f-bbc2-9724585f4c65"
      },
      "source": [
        "#Sacamos el p-valor\n",
        "modl = ols(\"Cantidad_de_Recuperados ~ Casos\", data=df_Help_2).fit()\n",
        "anova_df = sm.stats.anova_lm(modl, typ=2)\n",
        "if anova_df[\"PR(>F)\"][0] < 0.005:\n",
        "    print(\"hay diferencias\")\n",
        "    print(anova_df)\n",
        "    # Prueba tukey\n",
        "    # imprimir los resultados\n",
        "else:\n",
        "    print(\"No hay diferencias\")"
      ],
      "execution_count": null,
      "outputs": [
        {
          "output_type": "stream",
          "text": [
            "hay diferencias\n",
            "                sum_sq    df             F        PR(>F)\n",
            "Casos     2.985609e+11   1.0  16317.629773  1.303562e-42\n",
            "Residual  5.489049e+08  30.0           NaN           NaN\n"
          ],
          "name": "stdout"
        }
      ]
    }
  ]
}